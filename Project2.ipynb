{
 "cells": [
  {
   "cell_type": "markdown",
   "metadata": {
    "colab_type": "text",
    "id": "mFUolrxBjlsv"
   },
   "source": [
    "# Import Data"
   ]
  },
  {
   "cell_type": "code",
   "execution_count": 29,
   "metadata": {
    "colab": {},
    "colab_type": "code",
    "id": "L3yzRh0GQSMK"
   },
   "outputs": [],
   "source": [
    "import pandas as pd\n",
    "import numpy as np\n",
    "import matplotlib.pyplot as plt\n",
    "import statsmodels.api as sm\n",
    "import seaborn as sns\n",
    "from sklearn.model_selection import train_test_split\n",
    "from sklearn.metrics import r2_score, mean_squared_error\n",
    "from sklearn.preprocessing import StandardScaler"
   ]
  },
  {
   "cell_type": "code",
   "execution_count": 8,
   "metadata": {
    "colab": {},
    "colab_type": "code",
    "id": "85OTo5dVzewQ"
   },
   "outputs": [],
   "source": [
    "data = pd.read_csv('1000mlRetail.csv')"
   ]
  },
  {
   "cell_type": "markdown",
   "metadata": {
    "colab_type": "text",
    "id": "ZGeLIkR4jhi4"
   },
   "source": [
    "# Preliminary Data Exploration"
   ]
  },
  {
   "cell_type": "code",
   "execution_count": 9,
   "metadata": {
    "colab": {
     "base_uri": "https://localhost:8080/",
     "height": 303
    },
    "colab_type": "code",
    "id": "Kt0Ef2SUz9r8",
    "outputId": "5f7ef2e3-026e-4461-8a64-4d263e754773"
   },
   "outputs": [
    {
     "data": {
      "text/html": [
       "<div>\n",
       "<style scoped>\n",
       "    .dataframe tbody tr th:only-of-type {\n",
       "        vertical-align: middle;\n",
       "    }\n",
       "\n",
       "    .dataframe tbody tr th {\n",
       "        vertical-align: top;\n",
       "    }\n",
       "\n",
       "    .dataframe thead th {\n",
       "        text-align: right;\n",
       "    }\n",
       "</style>\n",
       "<table border=\"1\" class=\"dataframe\">\n",
       "  <thead>\n",
       "    <tr style=\"text-align: right;\">\n",
       "      <th></th>\n",
       "      <th>Row ID</th>\n",
       "      <th>Order ID</th>\n",
       "      <th>Order Date</th>\n",
       "      <th>Ship Date</th>\n",
       "      <th>Ship Mode</th>\n",
       "      <th>Customer ID</th>\n",
       "      <th>Customer Name</th>\n",
       "      <th>Segment</th>\n",
       "      <th>City</th>\n",
       "      <th>State</th>\n",
       "      <th>...</th>\n",
       "      <th>Product ID</th>\n",
       "      <th>Category</th>\n",
       "      <th>Sub-Category</th>\n",
       "      <th>Product Name</th>\n",
       "      <th>Sales</th>\n",
       "      <th>Quantity</th>\n",
       "      <th>Discount</th>\n",
       "      <th>Profit</th>\n",
       "      <th>Shipping Cost</th>\n",
       "      <th>Order Priority</th>\n",
       "    </tr>\n",
       "  </thead>\n",
       "  <tbody>\n",
       "    <tr>\n",
       "      <th>0</th>\n",
       "      <td>32298</td>\n",
       "      <td>CA-2016-124891</td>\n",
       "      <td>2016-07-31</td>\n",
       "      <td>2016-07-31</td>\n",
       "      <td>Same Day</td>\n",
       "      <td>RH-19495</td>\n",
       "      <td>Rick Hansen</td>\n",
       "      <td>Consumer</td>\n",
       "      <td>New York City</td>\n",
       "      <td>New York</td>\n",
       "      <td>...</td>\n",
       "      <td>TEC-AC-10003033</td>\n",
       "      <td>Technology</td>\n",
       "      <td>Accessories</td>\n",
       "      <td>Plantronics CS510 - Over-the-Head monaural Wir...</td>\n",
       "      <td>2309.650</td>\n",
       "      <td>7</td>\n",
       "      <td>0.0</td>\n",
       "      <td>762.1845</td>\n",
       "      <td>933.57</td>\n",
       "      <td>Critical</td>\n",
       "    </tr>\n",
       "    <tr>\n",
       "      <th>1</th>\n",
       "      <td>26341</td>\n",
       "      <td>IN-2017-77878</td>\n",
       "      <td>2017-02-05</td>\n",
       "      <td>2017-02-07</td>\n",
       "      <td>Second Class</td>\n",
       "      <td>JR-16210</td>\n",
       "      <td>Justin Ritter</td>\n",
       "      <td>Corporate</td>\n",
       "      <td>Wollongong</td>\n",
       "      <td>New South Wales</td>\n",
       "      <td>...</td>\n",
       "      <td>FUR-CH-10003950</td>\n",
       "      <td>Furniture</td>\n",
       "      <td>Chairs</td>\n",
       "      <td>Novimex Executive Leather Armchair, Black</td>\n",
       "      <td>3709.395</td>\n",
       "      <td>9</td>\n",
       "      <td>0.1</td>\n",
       "      <td>-288.7650</td>\n",
       "      <td>923.63</td>\n",
       "      <td>Critical</td>\n",
       "    </tr>\n",
       "  </tbody>\n",
       "</table>\n",
       "<p>2 rows × 24 columns</p>\n",
       "</div>"
      ],
      "text/plain": [
       "   Row ID        Order ID  Order Date   Ship Date     Ship Mode Customer ID  \\\n",
       "0   32298  CA-2016-124891  2016-07-31  2016-07-31      Same Day    RH-19495   \n",
       "1   26341   IN-2017-77878  2017-02-05  2017-02-07  Second Class    JR-16210   \n",
       "\n",
       "   Customer Name    Segment           City            State  ...  \\\n",
       "0    Rick Hansen   Consumer  New York City         New York  ...   \n",
       "1  Justin Ritter  Corporate     Wollongong  New South Wales  ...   \n",
       "\n",
       "        Product ID    Category Sub-Category  \\\n",
       "0  TEC-AC-10003033  Technology  Accessories   \n",
       "1  FUR-CH-10003950   Furniture       Chairs   \n",
       "\n",
       "                                        Product Name     Sales Quantity  \\\n",
       "0  Plantronics CS510 - Over-the-Head monaural Wir...  2309.650        7   \n",
       "1          Novimex Executive Leather Armchair, Black  3709.395        9   \n",
       "\n",
       "  Discount    Profit  Shipping Cost  Order Priority  \n",
       "0      0.0  762.1845         933.57        Critical  \n",
       "1      0.1 -288.7650         923.63        Critical  \n",
       "\n",
       "[2 rows x 24 columns]"
      ]
     },
     "execution_count": 9,
     "metadata": {},
     "output_type": "execute_result"
    }
   ],
   "source": [
    "data.head(2)"
   ]
  },
  {
   "cell_type": "code",
   "execution_count": 10,
   "metadata": {
    "colab": {
     "base_uri": "https://localhost:8080/",
     "height": 451
    },
    "colab_type": "code",
    "id": "T0haC3oSiKx0",
    "outputId": "9d1b7f22-bfbc-4143-b751-4f0460c794c1"
   },
   "outputs": [
    {
     "data": {
      "text/plain": [
       "Row ID              int64\n",
       "Order ID           object\n",
       "Order Date         object\n",
       "Ship Date          object\n",
       "Ship Mode          object\n",
       "Customer ID        object\n",
       "Customer Name      object\n",
       "Segment            object\n",
       "City               object\n",
       "State              object\n",
       "Country            object\n",
       "Postal Code       float64\n",
       "Market             object\n",
       "Region             object\n",
       "Product ID         object\n",
       "Category           object\n",
       "Sub-Category       object\n",
       "Product Name       object\n",
       "Sales             float64\n",
       "Quantity            int64\n",
       "Discount          float64\n",
       "Profit            float64\n",
       "Shipping Cost     float64\n",
       "Order Priority     object\n",
       "dtype: object"
      ]
     },
     "execution_count": 10,
     "metadata": {},
     "output_type": "execute_result"
    }
   ],
   "source": [
    "data.dtypes"
   ]
  },
  {
   "cell_type": "code",
   "execution_count": 11,
   "metadata": {
    "colab": {
     "base_uri": "https://localhost:8080/",
     "height": 451
    },
    "colab_type": "code",
    "id": "1vIT5EZu1AiF",
    "outputId": "81860feb-a1d7-4dc6-a5cf-5c62f11b59da"
   },
   "outputs": [
    {
     "data": {
      "text/plain": [
       "Row ID                0\n",
       "Order ID              0\n",
       "Order Date            0\n",
       "Ship Date             0\n",
       "Ship Mode             0\n",
       "Customer ID           0\n",
       "Customer Name         0\n",
       "Segment               0\n",
       "City                  0\n",
       "State                 0\n",
       "Country               0\n",
       "Postal Code       41296\n",
       "Market                0\n",
       "Region                0\n",
       "Product ID            0\n",
       "Category              0\n",
       "Sub-Category          0\n",
       "Product Name          0\n",
       "Sales                 0\n",
       "Quantity              0\n",
       "Discount              0\n",
       "Profit                0\n",
       "Shipping Cost         0\n",
       "Order Priority        0\n",
       "dtype: int64"
      ]
     },
     "execution_count": 11,
     "metadata": {},
     "output_type": "execute_result"
    }
   ],
   "source": [
    "data.isnull().sum()"
   ]
  },
  {
   "cell_type": "markdown",
   "metadata": {
    "colab_type": "text",
    "id": "CDAz29Xq1kg_"
   },
   "source": [
    "Only PostalCodes have Null values. Therefore we can continue our data exploration, as the data seems clean on first glance."
   ]
  },
  {
   "cell_type": "code",
   "execution_count": 12,
   "metadata": {
    "colab": {
     "base_uri": "https://localhost:8080/",
     "height": 468
    },
    "colab_type": "code",
    "id": "zmdx4Iii2235",
    "outputId": "3b1024eb-9c50-4bc8-f07d-b328ddbfd20f"
   },
   "outputs": [
    {
     "name": "stdout",
     "output_type": "stream",
     "text": [
      "Column: Unique Values\n",
      "---------------------\n",
      "Row ID: 51290\n",
      "Order ID: 25035\n",
      "Order Date: 1430\n",
      "Ship Date: 1460\n",
      "Ship Mode: 4\n",
      "Customer ID: 1590\n",
      "Customer Name: 795\n",
      "Segment: 3\n",
      "City: 3636\n",
      "State: 1094\n",
      "Country: 147\n",
      "Postal Code: 632\n",
      "Market: 7\n",
      "Region: 13\n",
      "Product ID: 10292\n",
      "Category: 3\n",
      "Sub-Category: 17\n",
      "Product Name: 3788\n",
      "Sales: 22995\n",
      "Quantity: 14\n",
      "Discount: 27\n",
      "Profit: 24575\n",
      "Shipping Cost: 10037\n",
      "Order Priority: 4\n"
     ]
    }
   ],
   "source": [
    "print(f'Column: Unique Values')\n",
    "print('---------------------')\n",
    "\n",
    "for name in data.columns:\n",
    "  print(f'{name}: {len(data[name].unique())}')"
   ]
  },
  {
   "cell_type": "markdown",
   "metadata": {
    "colab_type": "text",
    "id": "f-Z_vxtCBBf0"
   },
   "source": [
    "A couple columns have only few unique entries. We can filter these out for the later use of dummy variables, choosing the upper boundary of 17 as cutoff, as Discount is a numerical variable."
   ]
  },
  {
   "cell_type": "code",
   "execution_count": 13,
   "metadata": {
    "colab": {
     "base_uri": "https://localhost:8080/",
     "height": 208
    },
    "colab_type": "code",
    "id": "QZN-RG-0VW23",
    "outputId": "3ef7e868-21e3-4f0e-9232-deb3a9b29ab8"
   },
   "outputs": [
    {
     "name": "stdout",
     "output_type": "stream",
     "text": [
      "Ship Mode: ['Same Day' 'Second Class' 'First Class' 'Standard Class']\n",
      "Segment: ['Consumer' 'Corporate' 'Home Office']\n",
      "Market: ['US' 'APAC' 'EU' 'Africa' 'EMEA' 'LATAM' 'Canada']\n",
      "Region: ['East' 'Oceania' 'Central' 'Africa' 'West' 'South' 'Central Asia' 'EMEA'\n",
      " 'North Asia' 'North' 'Caribbean' 'Southeast Asia' 'Canada']\n",
      "Category: ['Technology' 'Furniture' 'Office Supplies']\n",
      "Sub-Category: ['Accessories' 'Chairs' 'Phones' 'Copiers' 'Tables' 'Binders' 'Supplies'\n",
      " 'Appliances' 'Machines' 'Bookcases' 'Storage' 'Furnishings' 'Art' 'Paper'\n",
      " 'Envelopes' 'Fasteners' 'Labels']\n",
      "Quantity: [ 7  9  5  8  4  6 13 12 14 10  2 11  3  1]\n",
      "Order Priority: ['Critical' 'Medium' 'High' 'Low']\n"
     ]
    }
   ],
   "source": [
    "for name in data.columns:\n",
    "  if len(data[name].unique()) <= 17:\n",
    "    print(f'{name}: {data[name].unique()}')"
   ]
  },
  {
   "cell_type": "markdown",
   "metadata": {
    "colab_type": "text",
    "id": "Cz7M0DbPBfEm"
   },
   "source": [
    "Quantity is a numerical variables, so it won't be considered with the other categorical Variables."
   ]
  },
  {
   "cell_type": "code",
   "execution_count": 14,
   "metadata": {
    "colab": {},
    "colab_type": "code",
    "id": "JmAw6MsS3409"
   },
   "outputs": [],
   "source": [
    "data['Order Date'] = pd.to_datetime(data['Order Date'])\n",
    "data['Ship Date'] = pd.to_datetime(data['Ship Date'])\n",
    "data['month'] = [x.month-1 for x in data['Order Date']]"
   ]
  },
  {
   "cell_type": "markdown",
   "metadata": {
    "colab_type": "text",
    "id": "V6T54gh1B5J2"
   },
   "source": [
    "Dates as datetime objects as to see if the shipping date has an affect on sales"
   ]
  },
  {
   "cell_type": "code",
   "execution_count": 15,
   "metadata": {
    "colab": {},
    "colab_type": "code",
    "id": "ALrtkv68_VaS"
   },
   "outputs": [],
   "source": [
    "col_to_categorize = []\n",
    "for name in data.drop(['Quantity','month'],1).columns:\n",
    "  if len(data[name].unique()) <= 17:\n",
    "    col_to_categorize.append(name)\n",
    "\n",
    "col_for_model = col_to_categorize   "
   ]
  },
  {
   "cell_type": "markdown",
   "metadata": {
    "colab_type": "text",
    "id": "SKtCl070CQj2"
   },
   "source": [
    "Filter all columns that contain 17 or less unique values as categories"
   ]
  },
  {
   "cell_type": "code",
   "execution_count": 16,
   "metadata": {
    "colab": {
     "base_uri": "https://localhost:8080/",
     "height": 110
    },
    "colab_type": "code",
    "id": "EePbpoeoQwtl",
    "outputId": "89fc6817-2d9b-4dc9-9415-937e7fae2011"
   },
   "outputs": [
    {
     "data": {
      "text/html": [
       "<div>\n",
       "<style scoped>\n",
       "    .dataframe tbody tr th:only-of-type {\n",
       "        vertical-align: middle;\n",
       "    }\n",
       "\n",
       "    .dataframe tbody tr th {\n",
       "        vertical-align: top;\n",
       "    }\n",
       "\n",
       "    .dataframe thead th {\n",
       "        text-align: right;\n",
       "    }\n",
       "</style>\n",
       "<table border=\"1\" class=\"dataframe\">\n",
       "  <thead>\n",
       "    <tr style=\"text-align: right;\">\n",
       "      <th></th>\n",
       "      <th>Ship Mode</th>\n",
       "      <th>Segment</th>\n",
       "      <th>Market</th>\n",
       "      <th>Region</th>\n",
       "      <th>Category</th>\n",
       "      <th>Sub-Category</th>\n",
       "      <th>Order Priority</th>\n",
       "    </tr>\n",
       "  </thead>\n",
       "  <tbody>\n",
       "    <tr>\n",
       "      <th>0</th>\n",
       "      <td>Same Day</td>\n",
       "      <td>Consumer</td>\n",
       "      <td>US</td>\n",
       "      <td>East</td>\n",
       "      <td>Technology</td>\n",
       "      <td>Accessories</td>\n",
       "      <td>Critical</td>\n",
       "    </tr>\n",
       "    <tr>\n",
       "      <th>1</th>\n",
       "      <td>Second Class</td>\n",
       "      <td>Corporate</td>\n",
       "      <td>APAC</td>\n",
       "      <td>Oceania</td>\n",
       "      <td>Furniture</td>\n",
       "      <td>Chairs</td>\n",
       "      <td>Critical</td>\n",
       "    </tr>\n",
       "  </tbody>\n",
       "</table>\n",
       "</div>"
      ],
      "text/plain": [
       "      Ship Mode    Segment Market   Region    Category Sub-Category  \\\n",
       "0      Same Day   Consumer     US     East  Technology  Accessories   \n",
       "1  Second Class  Corporate   APAC  Oceania   Furniture       Chairs   \n",
       "\n",
       "  Order Priority  \n",
       "0       Critical  \n",
       "1       Critical  "
      ]
     },
     "execution_count": 16,
     "metadata": {},
     "output_type": "execute_result"
    }
   ],
   "source": [
    "data[col_for_model].head(2)"
   ]
  },
  {
   "cell_type": "code",
   "execution_count": 17,
   "metadata": {
    "colab": {
     "base_uri": "https://localhost:8080/",
     "height": 173
    },
    "colab_type": "code",
    "id": "qahsRSaSvzzY",
    "outputId": "4f255314-4790-42a9-8f07-bb2231e4fa50"
   },
   "outputs": [
    {
     "data": {
      "text/plain": [
       "Row ID          -0.043889\n",
       "Postal Code     -0.023854\n",
       "Sales            1.000000\n",
       "Quantity         0.313577\n",
       "Discount        -0.086722\n",
       "Profit           0.484918\n",
       "Shipping Cost    0.768073\n",
       "month            0.001815\n",
       "Name: Sales, dtype: float64"
      ]
     },
     "execution_count": 17,
     "metadata": {},
     "output_type": "execute_result"
    }
   ],
   "source": [
    "data.corr()['Sales']"
   ]
  },
  {
   "cell_type": "markdown",
   "metadata": {
    "colab_type": "text",
    "id": "1RUymFnQCzL2"
   },
   "source": [
    "We drop Row ID, Postal Code, Discount and month as a variable for our regression model because the correlation is below 0.2 as a threshold"
   ]
  },
  {
   "cell_type": "markdown",
   "metadata": {
    "colab_type": "text",
    "id": "rUkP8jjbjROs"
   },
   "source": [
    "# Outliers"
   ]
  },
  {
   "cell_type": "markdown",
   "metadata": {
    "colab_type": "text",
    "id": "NXexmYjYEvFS"
   },
   "source": [
    "In order to deal with outliers we remove 1% of the data set that contains the largest/smallest values depending on the distribution"
   ]
  },
  {
   "cell_type": "code",
   "execution_count": 22,
   "metadata": {
    "colab": {
     "base_uri": "https://localhost:8080/",
     "height": 247
    },
    "colab_type": "code",
    "id": "S8xeO7xKDCDV",
    "outputId": "c0642e2b-c518-4468-e138-ee86ab90b519"
   },
   "outputs": [
    {
     "data": {
      "image/png": "[encoded data removed]",
      "text/plain": [
       "<Figure size 1080x216 with 4 Axes>"
      ]
     },
     "metadata": {
      "needs_background": "light"
     },
     "output_type": "display_data"
    }
   ],
   "source": [
    "fig, axs = plt.subplots(1,4, figsize=(15,3))\n",
    "\n",
    "for column, ax in zip(['Quantity','Profit','Shipping Cost','Sales'], axs.flatten()[:4]):\n",
    "  sns.distplot(data[column],ax=ax)\n",
    "\n",
    "plt.suptitle('Distribution of numeric Variables with a high correlation to Sales')\n",
    "plt.show()"
   ]
  },
  {
   "cell_type": "markdown",
   "metadata": {
    "colab_type": "text",
    "id": "a-gpMjq6FA0O"
   },
   "source": [
    "Shipping Cost and Sales are both one sided distributions, so we remove the top 1%. For Profit we remove the top and bottom 0.5%. For this we use quantiles."
   ]
  },
  {
   "cell_type": "code",
   "execution_count": 23,
   "metadata": {
    "colab": {},
    "colab_type": "code",
    "id": "XrjLolDoELAK"
   },
   "outputs": [],
   "source": [
    "q_SC = data['Shipping Cost'].quantile(0.99)\n",
    "q_S = data['Sales'].quantile(0.99)\n",
    "q_P1 = data['Profit'].quantile(0.005)\n",
    "q_P2 = data['Profit'].quantile(0.995)"
   ]
  },
  {
   "cell_type": "code",
   "execution_count": 24,
   "metadata": {
    "colab": {
     "base_uri": "https://localhost:8080/",
     "height": 72
    },
    "colab_type": "code",
    "id": "jNCUnxQKEnvm",
    "outputId": "001691d4-f0ca-4080-cb5a-566049a878ff"
   },
   "outputs": [
    {
     "name": "stderr",
     "output_type": "stream",
     "text": [
      "/home/steve/anaconda3/lib/python3.7/site-packages/ipykernel_launcher.py:1: UserWarning: Boolean Series key will be reindexed to match DataFrame index.\n",
      "  \"\"\"Entry point for launching an IPython kernel.\n"
     ]
    }
   ],
   "source": [
    "data = data[data['Shipping Cost']<q_SC][data['Sales']<q_S][data['Profit']>q_P1][data['Profit']<q_P2].reset_index()"
   ]
  },
  {
   "cell_type": "code",
   "execution_count": 25,
   "metadata": {
    "colab": {
     "base_uri": "https://localhost:8080/",
     "height": 216
    },
    "colab_type": "code",
    "id": "64qqqm2WGQI-",
    "outputId": "4ca167b2-31af-49f6-9ea9-a0f04d242007"
   },
   "outputs": [
    {
     "data": {
      "image/png": "[encoded data removed]",
      "text/plain": [
       "<Figure size 1080x180 with 4 Axes>"
      ]
     },
     "metadata": {
      "needs_background": "light"
     },
     "output_type": "display_data"
    }
   ],
   "source": [
    "fig, (ax1, ax2, ax3, ax4) = plt.subplots(1,4, figsize=(15,2.5))\n",
    "\n",
    "sns.distplot(data['Quantity'],ax=ax1)\n",
    "\n",
    "sns.distplot(data['Profit'],ax=ax2)\n",
    "\n",
    "sns.distplot(data['Shipping Cost'],ax=ax3)\n",
    "\n",
    "sns.distplot(data['Sales'],ax=ax4)\n",
    "\n",
    "plt.suptitle('Distribution of numeric Variables with a high correlation to Sales (No Outliers)')\n",
    "plt.show()"
   ]
  },
  {
   "cell_type": "markdown",
   "metadata": {
    "colab_type": "text",
    "id": "bn8m3LKIFSZO"
   },
   "source": [
    "After removing the outliers we see that the distributions haven't changed, they are just less spread out."
   ]
  },
  {
   "cell_type": "markdown",
   "metadata": {
    "colab_type": "text",
    "id": "h6cOQHzAjLtj"
   },
   "source": [
    "# Transformations"
   ]
  },
  {
   "cell_type": "code",
   "execution_count": 26,
   "metadata": {
    "colab": {
     "base_uri": "https://localhost:8080/",
     "height": 216
    },
    "colab_type": "code",
    "id": "gEK52G-1RLPe",
    "outputId": "5d9d03a1-3670-4de4-d6c8-f848052d7c9a"
   },
   "outputs": [
    {
     "data": {
      "image/png": "[encoded data removed]",
      "text/plain": [
       "<Figure size 1080x180 with 3 Axes>"
      ]
     },
     "metadata": {
      "needs_background": "light"
     },
     "output_type": "display_data"
    }
   ],
   "source": [
    "fig, (ax1, ax2, ax3) = plt.subplots(1,3, figsize=(15,2.5),sharey=True)\n",
    "\n",
    "y_values = data['Sales']\n",
    "\n",
    "ax1.scatter(data['Quantity'], y_values)\n",
    "\n",
    "ax2.scatter( data['Profit'] + abs(min(data['Profit'])) +1 , y_values)\n",
    "\n",
    "ax3.scatter(data['Shipping Cost'], y_values)\n",
    "\n",
    "ax1.set_ylabel('Sales')\n",
    "ax1.set_xlabel('Quantity')\n",
    "ax2.set_xlabel('Profit')\n",
    "ax3.set_xlabel('Shipping Cost')\n",
    "\n",
    "plt.suptitle('Scatterplots of Variables vs. Sales')\n",
    "plt.show()"
   ]
  },
  {
   "cell_type": "markdown",
   "metadata": {
    "colab_type": "text",
    "id": "diWQgkp5Ff5B"
   },
   "source": [
    "The scatter plots already follow a fairly wide but noticable linear relationship. For exploration sake we will look at log-linear and log-log transformations as well, to see if they give a more distinct linear relationship."
   ]
  },
  {
   "cell_type": "code",
   "execution_count": 27,
   "metadata": {
    "colab": {},
    "colab_type": "code",
    "id": "0Z8XUwWuSP3i"
   },
   "outputs": [],
   "source": [
    "def log_base(x, base):\n",
    "  return np.log(x)/np.log(base)"
   ]
  },
  {
   "cell_type": "code",
   "execution_count": 30,
   "metadata": {
    "colab": {
     "base_uri": "https://localhost:8080/",
     "height": 216
    },
    "colab_type": "code",
    "id": "LU7xnSf1CVio",
    "outputId": "4d139201-aee4-4346-bc14-0c0cc94fcfc4"
   },
   "outputs": [
    {
     "data": {
      "image/png": "[encoded data removed]",
      "text/plain": [
       "<Figure size 1080x180 with 3 Axes>"
      ]
     },
     "metadata": {
      "needs_background": "light"
     },
     "output_type": "display_data"
    }
   ],
   "source": [
    "fig, (ax1, ax2, ax3) = plt.subplots(1,3, figsize=(15,2.5),sharey=True)\n",
    "\n",
    "y_values = log_base(data['Sales'],10)\n",
    "\n",
    "ax1.scatter( data['Quantity'] , y_values )\n",
    "\n",
    "ax2.scatter( data['Profit'] + abs(min(data['Profit'])) +1, y_values )\n",
    "\n",
    "ax3.scatter( data['Shipping Cost'] , y_values )\n",
    "\n",
    "ax1.set_ylabel('Sales')\n",
    "ax1.set_xlabel('Quantity')\n",
    "ax2.set_xlabel('Profit')\n",
    "ax3.set_xlabel('Shipping Cost')\n",
    "\n",
    "plt.suptitle('Scatterplots of Variables vs. Sales with a linear-log Transformation')\n",
    "plt.show()"
   ]
  },
  {
   "cell_type": "markdown",
   "metadata": {
    "colab_type": "text",
    "id": "YE_FppUIGjGL"
   },
   "source": [
    "The log-linear transformation doesn't provide distinctly better relationships, therefore will not be used."
   ]
  },
  {
   "cell_type": "code",
   "execution_count": 31,
   "metadata": {
    "colab": {
     "base_uri": "https://localhost:8080/",
     "height": 251
    },
    "colab_type": "code",
    "id": "JufsptW7SM0K",
    "outputId": "d5138468-907a-48cf-fcf6-cd1707218da2"
   },
   "outputs": [
    {
     "name": "stderr",
     "output_type": "stream",
     "text": [
      "/home/steve/anaconda3/lib/python3.7/site-packages/pandas/core/series.py:679: RuntimeWarning: divide by zero encountered in log\n",
      "  result = getattr(ufunc, method)(*inputs, **kwargs)\n"
     ]
    },
    {
     "data": {
      "image/png": "[encoded data removed]",
      "text/plain": [
       "<Figure size 1080x180 with 3 Axes>"
      ]
     },
     "metadata": {
      "needs_background": "light"
     },
     "output_type": "display_data"
    }
   ],
   "source": [
    "fig, (ax1, ax2, ax3) = plt.subplots(1,3, figsize=(15,2.5),sharey=True)\n",
    "\n",
    "y_values = log_base(data['Sales'],10)\n",
    "\n",
    "ax1.scatter( log_base(data['Quantity'],10) , y_values )\n",
    "\n",
    "ax2.scatter( log_base(data['Profit'] + abs(min(data['Profit']))+1 ,10) , y_values )\n",
    "\n",
    "ax3.scatter( log_base(data['Shipping Cost'],10) , y_values )\n",
    "\n",
    "ax1.set_ylabel('Sales')\n",
    "ax1.set_xlabel('Quantity')\n",
    "ax2.set_xlabel('Profit')\n",
    "ax3.set_xlabel('Shipping Cost')\n",
    "\n",
    "plt.suptitle('Scatterplots of Variables vs. Sales with a log-log Transformation')\n",
    "plt.show()"
   ]
  },
  {
   "cell_type": "markdown",
   "metadata": {
    "colab_type": "text",
    "id": "86TtRQXDGu1V"
   },
   "source": [
    "The log-log transformation doesn't provide distinctly better relationships, therefore will not be used."
   ]
  },
  {
   "cell_type": "markdown",
   "metadata": {
    "colab_type": "text",
    "id": "zz72f46aiQOc"
   },
   "source": [
    "# OLS (R2 0.713/root MSE 165.045)"
   ]
  },
  {
   "cell_type": "markdown",
   "metadata": {
    "colab_type": "text",
    "id": "kM_ADEYaIl4o"
   },
   "source": [
    "We start with a simple OLS model to predict sales based only on the numerical variables with a correlation higher than 0.2. \n",
    "\n",
    "Adding a constant, doing a train test split and then run the model"
   ]
  },
  {
   "cell_type": "code",
   "execution_count": 36,
   "metadata": {
    "colab": {
     "base_uri": "https://localhost:8080/",
     "height": 482
    },
    "colab_type": "code",
    "id": "38z_dyYfxyoS",
    "outputId": "dc4adc88-0d5e-4588-99ca-8043c9b35936"
   },
   "outputs": [
    {
     "data": {
      "text/html": [
       "<table class=\"simpletable\">\n",
       "<caption>OLS Regression Results</caption>\n",
       "<tr>\n",
       "  <th>Dep. Variable:</th>          <td>Sales</td>      <th>  R-squared:         </th>  <td>   0.713</td>  \n",
       "</tr>\n",
       "<tr>\n",
       "  <th>Model:</th>                   <td>OLS</td>       <th>  Adj. R-squared:    </th>  <td>   0.713</td>  \n",
       "</tr>\n",
       "<tr>\n",
       "  <th>Method:</th>             <td>Least Squares</td>  <th>  F-statistic:       </th>  <td>3.335e+04</td> \n",
       "</tr>\n",
       "<tr>\n",
       "  <th>Date:</th>             <td>Mon, 06 Jul 2020</td> <th>  Prob (F-statistic):</th>   <td>  0.00</td>   \n",
       "</tr>\n",
       "<tr>\n",
       "  <th>Time:</th>                 <td>22:46:26</td>     <th>  Log-Likelihood:    </th> <td>-2.6231e+05</td>\n",
       "</tr>\n",
       "<tr>\n",
       "  <th>No. Observations:</th>      <td> 40200</td>      <th>  AIC:               </th>  <td>5.246e+05</td> \n",
       "</tr>\n",
       "<tr>\n",
       "  <th>Df Residuals:</th>          <td> 40196</td>      <th>  BIC:               </th>  <td>5.247e+05</td> \n",
       "</tr>\n",
       "<tr>\n",
       "  <th>Df Model:</th>              <td>     3</td>      <th>                     </th>      <td> </td>     \n",
       "</tr>\n",
       "<tr>\n",
       "  <th>Covariance Type:</th>      <td>nonrobust</td>    <th>                     </th>      <td> </td>     \n",
       "</tr>\n",
       "</table>\n",
       "<table class=\"simpletable\">\n",
       "<tr>\n",
       "        <td></td>           <th>coef</th>     <th>std err</th>      <th>t</th>      <th>P>|t|</th>  <th>[0.025</th>    <th>0.975]</th>  \n",
       "</tr>\n",
       "<tr>\n",
       "  <th>const</th>         <td>   13.0304</td> <td>    1.519</td> <td>    8.579</td> <td> 0.000</td> <td>   10.053</td> <td>   16.007</td>\n",
       "</tr>\n",
       "<tr>\n",
       "  <th>Quantity</th>      <td>   12.7817</td> <td>    0.382</td> <td>   33.440</td> <td> 0.000</td> <td>   12.033</td> <td>   13.531</td>\n",
       "</tr>\n",
       "<tr>\n",
       "  <th>Profit</th>        <td>    0.6332</td> <td>    0.009</td> <td>   67.656</td> <td> 0.000</td> <td>    0.615</td> <td>    0.652</td>\n",
       "</tr>\n",
       "<tr>\n",
       "  <th>Shipping Cost</th> <td>    6.2321</td> <td>    0.026</td> <td>  236.606</td> <td> 0.000</td> <td>    6.180</td> <td>    6.284</td>\n",
       "</tr>\n",
       "</table>\n",
       "<table class=\"simpletable\">\n",
       "<tr>\n",
       "  <th>Omnibus:</th>       <td>21103.356</td> <th>  Durbin-Watson:     </th>  <td>   2.001</td> \n",
       "</tr>\n",
       "<tr>\n",
       "  <th>Prob(Omnibus):</th>  <td> 0.000</td>   <th>  Jarque-Bera (JB):  </th> <td>484482.168</td>\n",
       "</tr>\n",
       "<tr>\n",
       "  <th>Skew:</th>           <td> 2.038</td>   <th>  Prob(JB):          </th>  <td>    0.00</td> \n",
       "</tr>\n",
       "<tr>\n",
       "  <th>Kurtosis:</th>       <td>19.511</td>   <th>  Cond. No.          </th>  <td>    192.</td> \n",
       "</tr>\n",
       "</table><br/><br/>Warnings:<br/>[1] Standard Errors assume that the covariance matrix of the errors is correctly specified."
      ],
      "text/plain": [
       "<class 'statsmodels.iolib.summary.Summary'>\n",
       "\"\"\"\n",
       "                            OLS Regression Results                            \n",
       "==============================================================================\n",
       "Dep. Variable:                  Sales   R-squared:                       0.713\n",
       "Model:                            OLS   Adj. R-squared:                  0.713\n",
       "Method:                 Least Squares   F-statistic:                 3.335e+04\n",
       "Date:                Mon, 06 Jul 2020   Prob (F-statistic):               0.00\n",
       "Time:                        22:46:26   Log-Likelihood:            -2.6231e+05\n",
       "No. Observations:               40200   AIC:                         5.246e+05\n",
       "Df Residuals:                   40196   BIC:                         5.247e+05\n",
       "Df Model:                           3                                         \n",
       "Covariance Type:            nonrobust                                         \n",
       "=================================================================================\n",
       "                    coef    std err          t      P>|t|      [0.025      0.975]\n",
       "---------------------------------------------------------------------------------\n",
       "const            13.0304      1.519      8.579      0.000      10.053      16.007\n",
       "Quantity         12.7817      0.382     33.440      0.000      12.033      13.531\n",
       "Profit            0.6332      0.009     67.656      0.000       0.615       0.652\n",
       "Shipping Cost     6.2321      0.026    236.606      0.000       6.180       6.284\n",
       "==============================================================================\n",
       "Omnibus:                    21103.356   Durbin-Watson:                   2.001\n",
       "Prob(Omnibus):                  0.000   Jarque-Bera (JB):           484482.168\n",
       "Skew:                           2.038   Prob(JB):                         0.00\n",
       "Kurtosis:                      19.511   Cond. No.                         192.\n",
       "==============================================================================\n",
       "\n",
       "Warnings:\n",
       "[1] Standard Errors assume that the covariance matrix of the errors is correctly specified.\n",
       "\"\"\""
      ]
     },
     "execution_count": 36,
     "metadata": {},
     "output_type": "execute_result"
    }
   ],
   "source": [
    "#set variables\n",
    "x = data[['Quantity','Profit','Shipping Cost']]\n",
    "y = data['Sales']\n",
    "\n",
    "#add constant\n",
    "x = sm.add_constant(x)\n",
    "\n",
    "#test train split\n",
    "x_train, x_test, y_train, y_test = train_test_split(\n",
    "                                          x, y, test_size = 0.2, random_state = 42\n",
    "                                        )\n",
    "\n",
    "# run model\n",
    "lin_model = sm.OLS(y_train, x_train).fit()\n",
    "\n",
    "lin_model.summary()"
   ]
  },
  {
   "cell_type": "markdown",
   "metadata": {
    "colab_type": "text",
    "id": "XC9WzZViI5a1"
   },
   "source": [
    "Printing the R2 scores and MSEs for both the training and test set"
   ]
  },
  {
   "cell_type": "code",
   "execution_count": 39,
   "metadata": {
    "colab": {
     "base_uri": "https://localhost:8080/",
     "height": 87
    },
    "colab_type": "code",
    "id": "z00m2HXt0YiO",
    "outputId": "63fa498c-ed94-4932-c338-34807ab79b14"
   },
   "outputs": [
    {
     "name": "stdout",
     "output_type": "stream",
     "text": [
      "Train score: 0.713\n",
      "Test score: 0.699\n",
      "Train root mse: 165.045\n",
      "Test root mse: 165.913\n"
     ]
    }
   ],
   "source": [
    "#R2 scores\n",
    "print(f'Train score: {r2_score(y_train,lin_model.predict(x_train)):.3f}')\n",
    "print(f'Test score: {r2_score(y_test,lin_model.predict(x_test)):.3f}')\n",
    "#Root MSE Values\n",
    "print(f'Train root mse: {mean_squared_error(y_train, lin_model.predict(x_train))**0.5:.3f}')\n",
    "print(f'Test root mse: {mean_squared_error(y_test, lin_model.predict(x_test))**0.5:.3f}')"
   ]
  },
  {
   "cell_type": "markdown",
   "metadata": {
    "colab_type": "text",
    "id": "SbfT60KDaylp"
   },
   "source": [
    "# OLS with categorical Variables (R2 0.788/root MSE 142.092)"
   ]
  },
  {
   "cell_type": "markdown",
   "metadata": {
    "colab_type": "text",
    "id": "nvASCO3GJCII"
   },
   "source": [
    "Next we add all the categorical variables that have 17 or less unique values."
   ]
  },
  {
   "cell_type": "code",
   "execution_count": 40,
   "metadata": {
    "colab": {},
    "colab_type": "code",
    "id": "d1pvH4AMa7NM"
   },
   "outputs": [],
   "source": [
    "#set variables\n",
    "x = data[['Quantity','Profit','Shipping Cost']]\n",
    "y = data['Sales']"
   ]
  },
  {
   "cell_type": "code",
   "execution_count": 41,
   "metadata": {
    "colab": {
     "base_uri": "https://localhost:8080/",
     "height": 110
    },
    "colab_type": "code",
    "id": "GulOAFAsa7cL",
    "outputId": "15ee0e67-4537-4a46-a581-be5e637e7d1c"
   },
   "outputs": [
    {
     "data": {
      "text/html": [
       "<div>\n",
       "<style scoped>\n",
       "    .dataframe tbody tr th:only-of-type {\n",
       "        vertical-align: middle;\n",
       "    }\n",
       "\n",
       "    .dataframe tbody tr th {\n",
       "        vertical-align: top;\n",
       "    }\n",
       "\n",
       "    .dataframe thead th {\n",
       "        text-align: right;\n",
       "    }\n",
       "</style>\n",
       "<table border=\"1\" class=\"dataframe\">\n",
       "  <thead>\n",
       "    <tr style=\"text-align: right;\">\n",
       "      <th></th>\n",
       "      <th>Ship Mode</th>\n",
       "      <th>Segment</th>\n",
       "      <th>Market</th>\n",
       "      <th>Region</th>\n",
       "      <th>Category</th>\n",
       "      <th>Sub-Category</th>\n",
       "      <th>Order Priority</th>\n",
       "    </tr>\n",
       "  </thead>\n",
       "  <tbody>\n",
       "    <tr>\n",
       "      <th>0</th>\n",
       "      <td>First Class</td>\n",
       "      <td>Corporate</td>\n",
       "      <td>APAC</td>\n",
       "      <td>Central Asia</td>\n",
       "      <td>Technology</td>\n",
       "      <td>Machines</td>\n",
       "      <td>High</td>\n",
       "    </tr>\n",
       "    <tr>\n",
       "      <th>1</th>\n",
       "      <td>Same Day</td>\n",
       "      <td>Corporate</td>\n",
       "      <td>APAC</td>\n",
       "      <td>Central Asia</td>\n",
       "      <td>Technology</td>\n",
       "      <td>Phones</td>\n",
       "      <td>Critical</td>\n",
       "    </tr>\n",
       "  </tbody>\n",
       "</table>\n",
       "</div>"
      ],
      "text/plain": [
       "     Ship Mode    Segment Market        Region    Category Sub-Category  \\\n",
       "0  First Class  Corporate   APAC  Central Asia  Technology     Machines   \n",
       "1     Same Day  Corporate   APAC  Central Asia  Technology       Phones   \n",
       "\n",
       "  Order Priority  \n",
       "0           High  \n",
       "1       Critical  "
      ]
     },
     "execution_count": 41,
     "metadata": {},
     "output_type": "execute_result"
    }
   ],
   "source": [
    "dummy_variables = data[col_for_model]\n",
    "dummy_variables.head(2)"
   ]
  },
  {
   "cell_type": "markdown",
   "metadata": {
    "colab_type": "text",
    "id": "tjgXZEuIJMud"
   },
   "source": [
    "In order to deal with categorical data, we have to create dummy variables (values of 0 or 1) for each categorical variable value."
   ]
  },
  {
   "cell_type": "code",
   "execution_count": 42,
   "metadata": {
    "colab": {
     "base_uri": "https://localhost:8080/",
     "height": 165
    },
    "colab_type": "code",
    "id": "kSbLOnt6bAmo",
    "outputId": "688b853d-b686-4158-9c30-d528a974c822"
   },
   "outputs": [
    {
     "data": {
      "text/html": [
       "<div>\n",
       "<style scoped>\n",
       "    .dataframe tbody tr th:only-of-type {\n",
       "        vertical-align: middle;\n",
       "    }\n",
       "\n",
       "    .dataframe tbody tr th {\n",
       "        vertical-align: top;\n",
       "    }\n",
       "\n",
       "    .dataframe thead th {\n",
       "        text-align: right;\n",
       "    }\n",
       "</style>\n",
       "<table border=\"1\" class=\"dataframe\">\n",
       "  <thead>\n",
       "    <tr style=\"text-align: right;\">\n",
       "      <th></th>\n",
       "      <th>Ship Mode_Same Day</th>\n",
       "      <th>Ship Mode_Second Class</th>\n",
       "      <th>Ship Mode_Standard Class</th>\n",
       "      <th>Segment_Corporate</th>\n",
       "      <th>Segment_Home Office</th>\n",
       "      <th>Market_Africa</th>\n",
       "      <th>Market_Canada</th>\n",
       "      <th>Market_EMEA</th>\n",
       "      <th>Market_EU</th>\n",
       "      <th>Market_LATAM</th>\n",
       "      <th>...</th>\n",
       "      <th>Sub-Category_Labels</th>\n",
       "      <th>Sub-Category_Machines</th>\n",
       "      <th>Sub-Category_Paper</th>\n",
       "      <th>Sub-Category_Phones</th>\n",
       "      <th>Sub-Category_Storage</th>\n",
       "      <th>Sub-Category_Supplies</th>\n",
       "      <th>Sub-Category_Tables</th>\n",
       "      <th>Order Priority_High</th>\n",
       "      <th>Order Priority_Low</th>\n",
       "      <th>Order Priority_Medium</th>\n",
       "    </tr>\n",
       "  </thead>\n",
       "  <tbody>\n",
       "    <tr>\n",
       "      <th>0</th>\n",
       "      <td>0</td>\n",
       "      <td>0</td>\n",
       "      <td>0</td>\n",
       "      <td>1</td>\n",
       "      <td>0</td>\n",
       "      <td>0</td>\n",
       "      <td>0</td>\n",
       "      <td>0</td>\n",
       "      <td>0</td>\n",
       "      <td>0</td>\n",
       "      <td>...</td>\n",
       "      <td>0</td>\n",
       "      <td>1</td>\n",
       "      <td>0</td>\n",
       "      <td>0</td>\n",
       "      <td>0</td>\n",
       "      <td>0</td>\n",
       "      <td>0</td>\n",
       "      <td>1</td>\n",
       "      <td>0</td>\n",
       "      <td>0</td>\n",
       "    </tr>\n",
       "    <tr>\n",
       "      <th>1</th>\n",
       "      <td>1</td>\n",
       "      <td>0</td>\n",
       "      <td>0</td>\n",
       "      <td>1</td>\n",
       "      <td>0</td>\n",
       "      <td>0</td>\n",
       "      <td>0</td>\n",
       "      <td>0</td>\n",
       "      <td>0</td>\n",
       "      <td>0</td>\n",
       "      <td>...</td>\n",
       "      <td>0</td>\n",
       "      <td>0</td>\n",
       "      <td>0</td>\n",
       "      <td>1</td>\n",
       "      <td>0</td>\n",
       "      <td>0</td>\n",
       "      <td>0</td>\n",
       "      <td>0</td>\n",
       "      <td>0</td>\n",
       "      <td>0</td>\n",
       "    </tr>\n",
       "  </tbody>\n",
       "</table>\n",
       "<p>2 rows × 44 columns</p>\n",
       "</div>"
      ],
      "text/plain": [
       "   Ship Mode_Same Day  Ship Mode_Second Class  Ship Mode_Standard Class  \\\n",
       "0                   0                       0                         0   \n",
       "1                   1                       0                         0   \n",
       "\n",
       "   Segment_Corporate  Segment_Home Office  Market_Africa  Market_Canada  \\\n",
       "0                  1                    0              0              0   \n",
       "1                  1                    0              0              0   \n",
       "\n",
       "   Market_EMEA  Market_EU  Market_LATAM  ...  Sub-Category_Labels  \\\n",
       "0            0          0             0  ...                    0   \n",
       "1            0          0             0  ...                    0   \n",
       "\n",
       "   Sub-Category_Machines  Sub-Category_Paper  Sub-Category_Phones  \\\n",
       "0                      1                   0                    0   \n",
       "1                      0                   0                    1   \n",
       "\n",
       "   Sub-Category_Storage  Sub-Category_Supplies  Sub-Category_Tables  \\\n",
       "0                     0                      0                    0   \n",
       "1                     0                      0                    0   \n",
       "\n",
       "   Order Priority_High  Order Priority_Low  Order Priority_Medium  \n",
       "0                    1                   0                      0  \n",
       "1                    0                   0                      0  \n",
       "\n",
       "[2 rows x 44 columns]"
      ]
     },
     "execution_count": 42,
     "metadata": {},
     "output_type": "execute_result"
    }
   ],
   "source": [
    "dummy = pd.get_dummies(dummy_variables, drop_first=True)\n",
    "dummy.head(2)"
   ]
  },
  {
   "cell_type": "markdown",
   "metadata": {
    "colab_type": "text",
    "id": "nDfMT1z8JWDO"
   },
   "source": [
    "Adding the categorical dummies to the previous numerical variables to run the model on."
   ]
  },
  {
   "cell_type": "code",
   "execution_count": 43,
   "metadata": {
    "colab": {
     "base_uri": "https://localhost:8080/",
     "height": 165
    },
    "colab_type": "code",
    "id": "0qj2BbolbAqf",
    "outputId": "bc7f8d67-e781-4468-ef4f-416613bfd989"
   },
   "outputs": [
    {
     "data": {
      "text/html": [
       "<div>\n",
       "<style scoped>\n",
       "    .dataframe tbody tr th:only-of-type {\n",
       "        vertical-align: middle;\n",
       "    }\n",
       "\n",
       "    .dataframe tbody tr th {\n",
       "        vertical-align: top;\n",
       "    }\n",
       "\n",
       "    .dataframe thead th {\n",
       "        text-align: right;\n",
       "    }\n",
       "</style>\n",
       "<table border=\"1\" class=\"dataframe\">\n",
       "  <thead>\n",
       "    <tr style=\"text-align: right;\">\n",
       "      <th></th>\n",
       "      <th>Quantity</th>\n",
       "      <th>Profit</th>\n",
       "      <th>Shipping Cost</th>\n",
       "      <th>Ship Mode_Same Day</th>\n",
       "      <th>Ship Mode_Second Class</th>\n",
       "      <th>Ship Mode_Standard Class</th>\n",
       "      <th>Segment_Corporate</th>\n",
       "      <th>Segment_Home Office</th>\n",
       "      <th>Market_Africa</th>\n",
       "      <th>Market_Canada</th>\n",
       "      <th>...</th>\n",
       "      <th>Sub-Category_Labels</th>\n",
       "      <th>Sub-Category_Machines</th>\n",
       "      <th>Sub-Category_Paper</th>\n",
       "      <th>Sub-Category_Phones</th>\n",
       "      <th>Sub-Category_Storage</th>\n",
       "      <th>Sub-Category_Supplies</th>\n",
       "      <th>Sub-Category_Tables</th>\n",
       "      <th>Order Priority_High</th>\n",
       "      <th>Order Priority_Low</th>\n",
       "      <th>Order Priority_Medium</th>\n",
       "    </tr>\n",
       "  </thead>\n",
       "  <tbody>\n",
       "    <tr>\n",
       "      <th>0</th>\n",
       "      <td>6</td>\n",
       "      <td>482.22</td>\n",
       "      <td>286.74</td>\n",
       "      <td>0</td>\n",
       "      <td>0</td>\n",
       "      <td>0</td>\n",
       "      <td>1</td>\n",
       "      <td>0</td>\n",
       "      <td>0</td>\n",
       "      <td>0</td>\n",
       "      <td>...</td>\n",
       "      <td>0</td>\n",
       "      <td>1</td>\n",
       "      <td>0</td>\n",
       "      <td>0</td>\n",
       "      <td>0</td>\n",
       "      <td>0</td>\n",
       "      <td>0</td>\n",
       "      <td>1</td>\n",
       "      <td>0</td>\n",
       "      <td>0</td>\n",
       "    </tr>\n",
       "    <tr>\n",
       "      <th>1</th>\n",
       "      <td>5</td>\n",
       "      <td>260.40</td>\n",
       "      <td>286.67</td>\n",
       "      <td>1</td>\n",
       "      <td>0</td>\n",
       "      <td>0</td>\n",
       "      <td>1</td>\n",
       "      <td>0</td>\n",
       "      <td>0</td>\n",
       "      <td>0</td>\n",
       "      <td>...</td>\n",
       "      <td>0</td>\n",
       "      <td>0</td>\n",
       "      <td>0</td>\n",
       "      <td>1</td>\n",
       "      <td>0</td>\n",
       "      <td>0</td>\n",
       "      <td>0</td>\n",
       "      <td>0</td>\n",
       "      <td>0</td>\n",
       "      <td>0</td>\n",
       "    </tr>\n",
       "  </tbody>\n",
       "</table>\n",
       "<p>2 rows × 47 columns</p>\n",
       "</div>"
      ],
      "text/plain": [
       "   Quantity  Profit  Shipping Cost  Ship Mode_Same Day  \\\n",
       "0         6  482.22         286.74                   0   \n",
       "1         5  260.40         286.67                   1   \n",
       "\n",
       "   Ship Mode_Second Class  Ship Mode_Standard Class  Segment_Corporate  \\\n",
       "0                       0                         0                  1   \n",
       "1                       0                         0                  1   \n",
       "\n",
       "   Segment_Home Office  Market_Africa  Market_Canada  ...  \\\n",
       "0                    0              0              0  ...   \n",
       "1                    0              0              0  ...   \n",
       "\n",
       "   Sub-Category_Labels  Sub-Category_Machines  Sub-Category_Paper  \\\n",
       "0                    0                      1                   0   \n",
       "1                    0                      0                   0   \n",
       "\n",
       "   Sub-Category_Phones  Sub-Category_Storage  Sub-Category_Supplies  \\\n",
       "0                    0                     0                      0   \n",
       "1                    1                     0                      0   \n",
       "\n",
       "   Sub-Category_Tables  Order Priority_High  Order Priority_Low  \\\n",
       "0                    0                    1                   0   \n",
       "1                    0                    0                   0   \n",
       "\n",
       "   Order Priority_Medium  \n",
       "0                      0  \n",
       "1                      0  \n",
       "\n",
       "[2 rows x 47 columns]"
      ]
     },
     "execution_count": 43,
     "metadata": {},
     "output_type": "execute_result"
    }
   ],
   "source": [
    "x = pd.concat([x,dummy],axis=1)\n",
    "x.head(2)"
   ]
  },
  {
   "cell_type": "code",
   "execution_count": 44,
   "metadata": {
    "colab": {
     "base_uri": "https://localhost:8080/",
     "height": 1000
    },
    "colab_type": "code",
    "id": "PippWB0rbAup",
    "outputId": "fbffc373-e271-47d2-e183-831c957950c5"
   },
   "outputs": [
    {
     "data": {
      "text/html": [
       "<table class=\"simpletable\">\n",
       "<caption>OLS Regression Results</caption>\n",
       "<tr>\n",
       "  <th>Dep. Variable:</th>          <td>Sales</td>      <th>  R-squared:         </th>  <td>   0.788</td>  \n",
       "</tr>\n",
       "<tr>\n",
       "  <th>Model:</th>                   <td>OLS</td>       <th>  Adj. R-squared:    </th>  <td>   0.787</td>  \n",
       "</tr>\n",
       "<tr>\n",
       "  <th>Method:</th>             <td>Least Squares</td>  <th>  F-statistic:       </th>  <td>   3631.</td>  \n",
       "</tr>\n",
       "<tr>\n",
       "  <th>Date:</th>             <td>Mon, 06 Jul 2020</td> <th>  Prob (F-statistic):</th>   <td>  0.00</td>   \n",
       "</tr>\n",
       "<tr>\n",
       "  <th>Time:</th>                 <td>22:47:04</td>     <th>  Log-Likelihood:    </th> <td>-2.5629e+05</td>\n",
       "</tr>\n",
       "<tr>\n",
       "  <th>No. Observations:</th>      <td> 40200</td>      <th>  AIC:               </th>  <td>5.127e+05</td> \n",
       "</tr>\n",
       "<tr>\n",
       "  <th>Df Residuals:</th>          <td> 40158</td>      <th>  BIC:               </th>  <td>5.130e+05</td> \n",
       "</tr>\n",
       "<tr>\n",
       "  <th>Df Model:</th>              <td>    41</td>      <th>                     </th>      <td> </td>     \n",
       "</tr>\n",
       "<tr>\n",
       "  <th>Covariance Type:</th>      <td>nonrobust</td>    <th>                     </th>      <td> </td>     \n",
       "</tr>\n",
       "</table>\n",
       "<table class=\"simpletable\">\n",
       "<tr>\n",
       "              <td></td>                <th>coef</th>     <th>std err</th>      <th>t</th>      <th>P>|t|</th>  <th>[0.025</th>    <th>0.975]</th>  \n",
       "</tr>\n",
       "<tr>\n",
       "  <th>const</th>                    <td>  -45.6945</td> <td>    2.867</td> <td>  -15.939</td> <td> 0.000</td> <td>  -51.314</td> <td>  -40.075</td>\n",
       "</tr>\n",
       "<tr>\n",
       "  <th>Quantity</th>                 <td>   16.9637</td> <td>    0.350</td> <td>   48.527</td> <td> 0.000</td> <td>   16.279</td> <td>   17.649</td>\n",
       "</tr>\n",
       "<tr>\n",
       "  <th>Profit</th>                   <td>    0.6184</td> <td>    0.008</td> <td>   74.533</td> <td> 0.000</td> <td>    0.602</td> <td>    0.635</td>\n",
       "</tr>\n",
       "<tr>\n",
       "  <th>Shipping Cost</th>            <td>    5.5165</td> <td>    0.028</td> <td>  199.105</td> <td> 0.000</td> <td>    5.462</td> <td>    5.571</td>\n",
       "</tr>\n",
       "<tr>\n",
       "  <th>Ship Mode_Same Day</th>       <td>    3.8600</td> <td>    3.620</td> <td>    1.066</td> <td> 0.286</td> <td>   -3.234</td> <td>   10.954</td>\n",
       "</tr>\n",
       "<tr>\n",
       "  <th>Ship Mode_Second Class</th>   <td>   32.4843</td> <td>    2.478</td> <td>   13.108</td> <td> 0.000</td> <td>   27.627</td> <td>   37.342</td>\n",
       "</tr>\n",
       "<tr>\n",
       "  <th>Ship Mode_Standard Class</th> <td>   52.6086</td> <td>    2.289</td> <td>   22.983</td> <td> 0.000</td> <td>   48.122</td> <td>   57.095</td>\n",
       "</tr>\n",
       "<tr>\n",
       "  <th>Segment_Corporate</th>        <td>   -0.4141</td> <td>    1.625</td> <td>   -0.255</td> <td> 0.799</td> <td>   -3.599</td> <td>    2.771</td>\n",
       "</tr>\n",
       "<tr>\n",
       "  <th>Segment_Home Office</th>      <td>    0.8080</td> <td>    1.939</td> <td>    0.417</td> <td> 0.677</td> <td>   -2.992</td> <td>    4.608</td>\n",
       "</tr>\n",
       "<tr>\n",
       "  <th>Market_Africa</th>            <td>  -10.0472</td> <td>    2.341</td> <td>   -4.292</td> <td> 0.000</td> <td>  -14.636</td> <td>   -5.459</td>\n",
       "</tr>\n",
       "<tr>\n",
       "  <th>Market_Canada</th>            <td>   -2.4650</td> <td>    3.903</td> <td>   -0.632</td> <td> 0.528</td> <td>  -10.115</td> <td>    5.185</td>\n",
       "</tr>\n",
       "<tr>\n",
       "  <th>Market_EMEA</th>              <td>   -3.9139</td> <td>    1.187</td> <td>   -3.298</td> <td> 0.001</td> <td>   -6.240</td> <td>   -1.588</td>\n",
       "</tr>\n",
       "<tr>\n",
       "  <th>Market_EU</th>                <td>    7.1467</td> <td>    1.893</td> <td>    3.775</td> <td> 0.000</td> <td>    3.436</td> <td>   10.857</td>\n",
       "</tr>\n",
       "<tr>\n",
       "  <th>Market_LATAM</th>             <td>  -20.4332</td> <td>    1.809</td> <td>  -11.298</td> <td> 0.000</td> <td>  -23.978</td> <td>  -16.888</td>\n",
       "</tr>\n",
       "<tr>\n",
       "  <th>Market_US</th>                <td>  -20.7706</td> <td>    2.062</td> <td>  -10.072</td> <td> 0.000</td> <td>  -24.813</td> <td>  -16.729</td>\n",
       "</tr>\n",
       "<tr>\n",
       "  <th>Region_Canada</th>            <td>   -2.4650</td> <td>    3.903</td> <td>   -0.632</td> <td> 0.528</td> <td>  -10.115</td> <td>    5.185</td>\n",
       "</tr>\n",
       "<tr>\n",
       "  <th>Region_Caribbean</th>         <td>  -12.3355</td> <td>    3.817</td> <td>   -3.232</td> <td> 0.001</td> <td>  -19.817</td> <td>   -4.854</td>\n",
       "</tr>\n",
       "<tr>\n",
       "  <th>Region_Central</th>           <td>   -2.8330</td> <td>    1.728</td> <td>   -1.640</td> <td> 0.101</td> <td>   -6.220</td> <td>    0.554</td>\n",
       "</tr>\n",
       "<tr>\n",
       "  <th>Region_Central Asia</th>      <td>    1.8101</td> <td>    3.310</td> <td>    0.547</td> <td> 0.584</td> <td>   -4.677</td> <td>    8.297</td>\n",
       "</tr>\n",
       "<tr>\n",
       "  <th>Region_EMEA</th>              <td>   -3.9139</td> <td>    1.187</td> <td>   -3.298</td> <td> 0.001</td> <td>   -6.240</td> <td>   -1.588</td>\n",
       "</tr>\n",
       "<tr>\n",
       "  <th>Region_East</th>              <td>   -5.5536</td> <td>    3.303</td> <td>   -1.681</td> <td> 0.093</td> <td>  -12.028</td> <td>    0.921</td>\n",
       "</tr>\n",
       "<tr>\n",
       "  <th>Region_North</th>             <td>   -4.3017</td> <td>    2.472</td> <td>   -1.740</td> <td> 0.082</td> <td>   -9.147</td> <td>    0.544</td>\n",
       "</tr>\n",
       "<tr>\n",
       "  <th>Region_North Asia</th>        <td>   -5.3272</td> <td>    3.118</td> <td>   -1.708</td> <td> 0.088</td> <td>  -11.439</td> <td>    0.784</td>\n",
       "</tr>\n",
       "<tr>\n",
       "  <th>Region_Oceania</th>           <td>    5.4252</td> <td>    2.597</td> <td>    2.089</td> <td> 0.037</td> <td>    0.335</td> <td>   10.515</td>\n",
       "</tr>\n",
       "<tr>\n",
       "  <th>Region_South</th>             <td>   -3.9467</td> <td>    1.968</td> <td>   -2.005</td> <td> 0.045</td> <td>   -7.804</td> <td>   -0.089</td>\n",
       "</tr>\n",
       "<tr>\n",
       "  <th>Region_Southeast Asia</th>    <td>    2.8805</td> <td>    2.753</td> <td>    1.046</td> <td> 0.295</td> <td>   -2.515</td> <td>    8.276</td>\n",
       "</tr>\n",
       "<tr>\n",
       "  <th>Region_West</th>              <td>   -5.0866</td> <td>    3.168</td> <td>   -1.606</td> <td> 0.108</td> <td>  -11.296</td> <td>    1.123</td>\n",
       "</tr>\n",
       "<tr>\n",
       "  <th>Category_Office Supplies</th> <td>  -95.7026</td> <td>    1.470</td> <td>  -65.100</td> <td> 0.000</td> <td>  -98.584</td> <td>  -92.821</td>\n",
       "</tr>\n",
       "<tr>\n",
       "  <th>Category_Technology</th>      <td>  -77.3447</td> <td>    2.768</td> <td>  -27.947</td> <td> 0.000</td> <td>  -82.769</td> <td>  -71.920</td>\n",
       "</tr>\n",
       "<tr>\n",
       "  <th>Sub-Category_Appliances</th>  <td>  108.0866</td> <td>    3.726</td> <td>   29.011</td> <td> 0.000</td> <td>  100.784</td> <td>  115.389</td>\n",
       "</tr>\n",
       "<tr>\n",
       "  <th>Sub-Category_Art</th>         <td>  -29.0374</td> <td>    2.249</td> <td>  -12.911</td> <td> 0.000</td> <td>  -33.445</td> <td>  -24.629</td>\n",
       "</tr>\n",
       "<tr>\n",
       "  <th>Sub-Category_Binders</th>     <td>  -32.5842</td> <td>    2.047</td> <td>  -15.920</td> <td> 0.000</td> <td>  -36.596</td> <td>  -28.572</td>\n",
       "</tr>\n",
       "<tr>\n",
       "  <th>Sub-Category_Bookcases</th>   <td>   46.4939</td> <td>    3.162</td> <td>   14.703</td> <td> 0.000</td> <td>   40.296</td> <td>   52.692</td>\n",
       "</tr>\n",
       "<tr>\n",
       "  <th>Sub-Category_Chairs</th>      <td>   -9.5034</td> <td>    2.683</td> <td>   -3.542</td> <td> 0.000</td> <td>  -14.762</td> <td>   -4.244</td>\n",
       "</tr>\n",
       "<tr>\n",
       "  <th>Sub-Category_Copiers</th>     <td>  135.2707</td> <td>    4.621</td> <td>   29.274</td> <td> 0.000</td> <td>  126.214</td> <td>  144.328</td>\n",
       "</tr>\n",
       "<tr>\n",
       "  <th>Sub-Category_Envelopes</th>   <td>  -30.2039</td> <td>    3.010</td> <td>  -10.035</td> <td> 0.000</td> <td>  -36.103</td> <td>  -24.305</td>\n",
       "</tr>\n",
       "<tr>\n",
       "  <th>Sub-Category_Fasteners</th>   <td>  -42.4064</td> <td>    3.019</td> <td>  -14.045</td> <td> 0.000</td> <td>  -48.324</td> <td>  -36.489</td>\n",
       "</tr>\n",
       "<tr>\n",
       "  <th>Sub-Category_Furnishings</th> <td> -105.7153</td> <td>    2.744</td> <td>  -38.529</td> <td> 0.000</td> <td> -111.093</td> <td> -100.337</td>\n",
       "</tr>\n",
       "<tr>\n",
       "  <th>Sub-Category_Labels</th>      <td>  -45.4800</td> <td>    2.918</td> <td>  -15.588</td> <td> 0.000</td> <td>  -51.199</td> <td>  -39.761</td>\n",
       "</tr>\n",
       "<tr>\n",
       "  <th>Sub-Category_Machines</th>    <td>   85.4965</td> <td>    5.217</td> <td>   16.390</td> <td> 0.000</td> <td>   75.272</td> <td>   95.721</td>\n",
       "</tr>\n",
       "<tr>\n",
       "  <th>Sub-Category_Paper</th>       <td>  -29.8756</td> <td>    2.604</td> <td>  -11.471</td> <td> 0.000</td> <td>  -34.980</td> <td>  -24.771</td>\n",
       "</tr>\n",
       "<tr>\n",
       "  <th>Sub-Category_Phones</th>      <td>   62.2139</td> <td>    4.049</td> <td>   15.366</td> <td> 0.000</td> <td>   54.278</td> <td>   70.150</td>\n",
       "</tr>\n",
       "<tr>\n",
       "  <th>Sub-Category_Storage</th>     <td>   29.4509</td> <td>    2.220</td> <td>   13.266</td> <td> 0.000</td> <td>   25.100</td> <td>   33.802</td>\n",
       "</tr>\n",
       "<tr>\n",
       "  <th>Sub-Category_Supplies</th>    <td>  -23.6526</td> <td>    3.041</td> <td>   -7.778</td> <td> 0.000</td> <td>  -29.613</td> <td>  -17.692</td>\n",
       "</tr>\n",
       "<tr>\n",
       "  <th>Sub-Category_Tables</th>      <td>  196.0777</td> <td>    5.356</td> <td>   36.609</td> <td> 0.000</td> <td>  185.580</td> <td>  206.576</td>\n",
       "</tr>\n",
       "<tr>\n",
       "  <th>Order Priority_High</th>      <td>   82.0188</td> <td>    3.037</td> <td>   27.007</td> <td> 0.000</td> <td>   76.066</td> <td>   87.971</td>\n",
       "</tr>\n",
       "<tr>\n",
       "  <th>Order Priority_Low</th>       <td>   78.7449</td> <td>    4.495</td> <td>   17.518</td> <td> 0.000</td> <td>   69.935</td> <td>   87.555</td>\n",
       "</tr>\n",
       "<tr>\n",
       "  <th>Order Priority_Medium</th>    <td>  134.8277</td> <td>    3.116</td> <td>   43.268</td> <td> 0.000</td> <td>  128.720</td> <td>  140.935</td>\n",
       "</tr>\n",
       "</table>\n",
       "<table class=\"simpletable\">\n",
       "<tr>\n",
       "  <th>Omnibus:</th>       <td>23340.226</td> <th>  Durbin-Watson:     </th>  <td>   2.001</td> \n",
       "</tr>\n",
       "<tr>\n",
       "  <th>Prob(Omnibus):</th>  <td> 0.000</td>   <th>  Jarque-Bera (JB):  </th> <td>621023.444</td>\n",
       "</tr>\n",
       "<tr>\n",
       "  <th>Skew:</th>           <td> 2.302</td>   <th>  Prob(JB):          </th>  <td>    0.00</td> \n",
       "</tr>\n",
       "<tr>\n",
       "  <th>Kurtosis:</th>       <td>21.696</td>   <th>  Cond. No.          </th>  <td>1.09e+17</td> \n",
       "</tr>\n",
       "</table><br/><br/>Warnings:<br/>[1] Standard Errors assume that the covariance matrix of the errors is correctly specified.<br/>[2] The smallest eigenvalue is 3.52e-26. This might indicate that there are<br/>strong multicollinearity problems or that the design matrix is singular."
      ],
      "text/plain": [
       "<class 'statsmodels.iolib.summary.Summary'>\n",
       "\"\"\"\n",
       "                            OLS Regression Results                            \n",
       "==============================================================================\n",
       "Dep. Variable:                  Sales   R-squared:                       0.788\n",
       "Model:                            OLS   Adj. R-squared:                  0.787\n",
       "Method:                 Least Squares   F-statistic:                     3631.\n",
       "Date:                Mon, 06 Jul 2020   Prob (F-statistic):               0.00\n",
       "Time:                        22:47:04   Log-Likelihood:            -2.5629e+05\n",
       "No. Observations:               40200   AIC:                         5.127e+05\n",
       "Df Residuals:                   40158   BIC:                         5.130e+05\n",
       "Df Model:                          41                                         \n",
       "Covariance Type:            nonrobust                                         \n",
       "============================================================================================\n",
       "                               coef    std err          t      P>|t|      [0.025      0.975]\n",
       "--------------------------------------------------------------------------------------------\n",
       "const                      -45.6945      2.867    -15.939      0.000     -51.314     -40.075\n",
       "Quantity                    16.9637      0.350     48.527      0.000      16.279      17.649\n",
       "Profit                       0.6184      0.008     74.533      0.000       0.602       0.635\n",
       "Shipping Cost                5.5165      0.028    199.105      0.000       5.462       5.571\n",
       "Ship Mode_Same Day           3.8600      3.620      1.066      0.286      -3.234      10.954\n",
       "Ship Mode_Second Class      32.4843      2.478     13.108      0.000      27.627      37.342\n",
       "Ship Mode_Standard Class    52.6086      2.289     22.983      0.000      48.122      57.095\n",
       "Segment_Corporate           -0.4141      1.625     -0.255      0.799      -3.599       2.771\n",
       "Segment_Home Office          0.8080      1.939      0.417      0.677      -2.992       4.608\n",
       "Market_Africa              -10.0472      2.341     -4.292      0.000     -14.636      -5.459\n",
       "Market_Canada               -2.4650      3.903     -0.632      0.528     -10.115       5.185\n",
       "Market_EMEA                 -3.9139      1.187     -3.298      0.001      -6.240      -1.588\n",
       "Market_EU                    7.1467      1.893      3.775      0.000       3.436      10.857\n",
       "Market_LATAM               -20.4332      1.809    -11.298      0.000     -23.978     -16.888\n",
       "Market_US                  -20.7706      2.062    -10.072      0.000     -24.813     -16.729\n",
       "Region_Canada               -2.4650      3.903     -0.632      0.528     -10.115       5.185\n",
       "Region_Caribbean           -12.3355      3.817     -3.232      0.001     -19.817      -4.854\n",
       "Region_Central              -2.8330      1.728     -1.640      0.101      -6.220       0.554\n",
       "Region_Central Asia          1.8101      3.310      0.547      0.584      -4.677       8.297\n",
       "Region_EMEA                 -3.9139      1.187     -3.298      0.001      -6.240      -1.588\n",
       "Region_East                 -5.5536      3.303     -1.681      0.093     -12.028       0.921\n",
       "Region_North                -4.3017      2.472     -1.740      0.082      -9.147       0.544\n",
       "Region_North Asia           -5.3272      3.118     -1.708      0.088     -11.439       0.784\n",
       "Region_Oceania               5.4252      2.597      2.089      0.037       0.335      10.515\n",
       "Region_South                -3.9467      1.968     -2.005      0.045      -7.804      -0.089\n",
       "Region_Southeast Asia        2.8805      2.753      1.046      0.295      -2.515       8.276\n",
       "Region_West                 -5.0866      3.168     -1.606      0.108     -11.296       1.123\n",
       "Category_Office Supplies   -95.7026      1.470    -65.100      0.000     -98.584     -92.821\n",
       "Category_Technology        -77.3447      2.768    -27.947      0.000     -82.769     -71.920\n",
       "Sub-Category_Appliances    108.0866      3.726     29.011      0.000     100.784     115.389\n",
       "Sub-Category_Art           -29.0374      2.249    -12.911      0.000     -33.445     -24.629\n",
       "Sub-Category_Binders       -32.5842      2.047    -15.920      0.000     -36.596     -28.572\n",
       "Sub-Category_Bookcases      46.4939      3.162     14.703      0.000      40.296      52.692\n",
       "Sub-Category_Chairs         -9.5034      2.683     -3.542      0.000     -14.762      -4.244\n",
       "Sub-Category_Copiers       135.2707      4.621     29.274      0.000     126.214     144.328\n",
       "Sub-Category_Envelopes     -30.2039      3.010    -10.035      0.000     -36.103     -24.305\n",
       "Sub-Category_Fasteners     -42.4064      3.019    -14.045      0.000     -48.324     -36.489\n",
       "Sub-Category_Furnishings  -105.7153      2.744    -38.529      0.000    -111.093    -100.337\n",
       "Sub-Category_Labels        -45.4800      2.918    -15.588      0.000     -51.199     -39.761\n",
       "Sub-Category_Machines       85.4965      5.217     16.390      0.000      75.272      95.721\n",
       "Sub-Category_Paper         -29.8756      2.604    -11.471      0.000     -34.980     -24.771\n",
       "Sub-Category_Phones         62.2139      4.049     15.366      0.000      54.278      70.150\n",
       "Sub-Category_Storage        29.4509      2.220     13.266      0.000      25.100      33.802\n",
       "Sub-Category_Supplies      -23.6526      3.041     -7.778      0.000     -29.613     -17.692\n",
       "Sub-Category_Tables        196.0777      5.356     36.609      0.000     185.580     206.576\n",
       "Order Priority_High         82.0188      3.037     27.007      0.000      76.066      87.971\n",
       "Order Priority_Low          78.7449      4.495     17.518      0.000      69.935      87.555\n",
       "Order Priority_Medium      134.8277      3.116     43.268      0.000     128.720     140.935\n",
       "==============================================================================\n",
       "Omnibus:                    23340.226   Durbin-Watson:                   2.001\n",
       "Prob(Omnibus):                  0.000   Jarque-Bera (JB):           621023.444\n",
       "Skew:                           2.302   Prob(JB):                         0.00\n",
       "Kurtosis:                      21.696   Cond. No.                     1.09e+17\n",
       "==============================================================================\n",
       "\n",
       "Warnings:\n",
       "[1] Standard Errors assume that the covariance matrix of the errors is correctly specified.\n",
       "[2] The smallest eigenvalue is 3.52e-26. This might indicate that there are\n",
       "strong multicollinearity problems or that the design matrix is singular.\n",
       "\"\"\""
      ]
     },
     "execution_count": 44,
     "metadata": {},
     "output_type": "execute_result"
    }
   ],
   "source": [
    "#test train split\n",
    "x_train, x_test, y_train, y_test = train_test_split(\n",
    "                                          x, y, test_size = 0.2, random_state = 42\n",
    "                                        )\n",
    "\n",
    "#add constant to train and test x\n",
    "x_train = sm.add_constant(x_train)\n",
    "x_test = sm.add_constant(x_test)\n",
    "\n",
    "# run model\n",
    "lin_model = sm.OLS(y_train, x_train).fit()\n",
    "\n",
    "lin_model.summary()"
   ]
  },
  {
   "cell_type": "markdown",
   "metadata": {
    "colab_type": "text",
    "id": "Gaa_-5YkJlPD"
   },
   "source": [
    "Printing the R2 scores and MSEs for both the training and test set"
   ]
  },
  {
   "cell_type": "code",
   "execution_count": 45,
   "metadata": {
    "colab": {
     "base_uri": "https://localhost:8080/",
     "height": 87
    },
    "colab_type": "code",
    "id": "f9DtikHLbAyV",
    "outputId": "d0a57244-99be-48bc-9010-4be677e87007"
   },
   "outputs": [
    {
     "name": "stdout",
     "output_type": "stream",
     "text": [
      "Train score: 0.788\n",
      "Test score: 0.777\n",
      "Train root mse: 142.092\n",
      "Test root mse: 142.869\n"
     ]
    }
   ],
   "source": [
    "#R2 scores\n",
    "print(f'Train score: {r2_score(y_train,lin_model.predict(x_train)):.3f}')\n",
    "print(f'Test score: {r2_score(y_test,lin_model.predict(x_test)):.3f}')\n",
    "#Root MSE Values\n",
    "print(f'Train root mse: {mean_squared_error(y_train, lin_model.predict(x_train))**0.5:.3f}')\n",
    "print(f'Test root mse: {mean_squared_error(y_test, lin_model.predict(x_test))**0.5:.3f}')"
   ]
  },
  {
   "cell_type": "markdown",
   "metadata": {
    "colab_type": "text",
    "id": "M-bQpjd0b2eL"
   },
   "source": [
    "We see an increase in R2 and decrease in MSE compared to the Regression without the categorical values. That's good!\n",
    "\n",
    "* We keep the categorical variables `'Category'`, `'Subcategory'` and `'Order Priority'`, because the other variables and their dummies have p values above 0.05.\n",
    "* For modelling purposes we also drop `'Sub-Category'`, as this and `'Category'` are most likely collinear and `'Category'` has less dummies"
   ]
  },
  {
   "cell_type": "markdown",
   "metadata": {
    "colab_type": "text",
    "id": "ok-ATwATt6wC"
   },
   "source": [
    "# OLS with selected categorical Variables (R2 0.759/root MSE 151.447)"
   ]
  },
  {
   "cell_type": "markdown",
   "metadata": {
    "colab_type": "text",
    "id": "tWPaD5njKCbY"
   },
   "source": [
    "Running the model with only the selected categorical and the numerical Variables."
   ]
  },
  {
   "cell_type": "code",
   "execution_count": 46,
   "metadata": {
    "colab": {
     "base_uri": "https://localhost:8080/",
     "height": 585
    },
    "colab_type": "code",
    "id": "YdCGnd7Ht9oO",
    "outputId": "8a7a1d0b-54d5-434a-e46c-b81592944522"
   },
   "outputs": [
    {
     "data": {
      "text/html": [
       "<table class=\"simpletable\">\n",
       "<caption>OLS Regression Results</caption>\n",
       "<tr>\n",
       "  <th>Dep. Variable:</th>          <td>Sales</td>      <th>  R-squared:         </th>  <td>   0.759</td>  \n",
       "</tr>\n",
       "<tr>\n",
       "  <th>Model:</th>                   <td>OLS</td>       <th>  Adj. R-squared:    </th>  <td>   0.759</td>  \n",
       "</tr>\n",
       "<tr>\n",
       "  <th>Method:</th>             <td>Least Squares</td>  <th>  F-statistic:       </th>  <td>1.579e+04</td> \n",
       "</tr>\n",
       "<tr>\n",
       "  <th>Date:</th>             <td>Mon, 06 Jul 2020</td> <th>  Prob (F-statistic):</th>   <td>  0.00</td>   \n",
       "</tr>\n",
       "<tr>\n",
       "  <th>Time:</th>                 <td>22:47:13</td>     <th>  Log-Likelihood:    </th> <td>-2.5885e+05</td>\n",
       "</tr>\n",
       "<tr>\n",
       "  <th>No. Observations:</th>      <td> 40200</td>      <th>  AIC:               </th>  <td>5.177e+05</td> \n",
       "</tr>\n",
       "<tr>\n",
       "  <th>Df Residuals:</th>          <td> 40191</td>      <th>  BIC:               </th>  <td>5.178e+05</td> \n",
       "</tr>\n",
       "<tr>\n",
       "  <th>Df Model:</th>              <td>     8</td>      <th>                     </th>      <td> </td>     \n",
       "</tr>\n",
       "<tr>\n",
       "  <th>Covariance Type:</th>      <td>nonrobust</td>    <th>                     </th>      <td> </td>     \n",
       "</tr>\n",
       "</table>\n",
       "<table class=\"simpletable\">\n",
       "<tr>\n",
       "              <td></td>                <th>coef</th>     <th>std err</th>      <th>t</th>      <th>P>|t|</th>  <th>[0.025</th>    <th>0.975]</th>  \n",
       "</tr>\n",
       "<tr>\n",
       "  <th>const</th>                    <td>  -83.7371</td> <td>    3.569</td> <td>  -23.462</td> <td> 0.000</td> <td>  -90.732</td> <td>  -76.742</td>\n",
       "</tr>\n",
       "<tr>\n",
       "  <th>Quantity</th>                 <td>   13.1347</td> <td>    0.354</td> <td>   37.079</td> <td> 0.000</td> <td>   12.440</td> <td>   13.829</td>\n",
       "</tr>\n",
       "<tr>\n",
       "  <th>Profit</th>                   <td>    0.5799</td> <td>    0.009</td> <td>   66.927</td> <td> 0.000</td> <td>    0.563</td> <td>    0.597</td>\n",
       "</tr>\n",
       "<tr>\n",
       "  <th>Shipping Cost</th>            <td>    6.2131</td> <td>    0.027</td> <td>  231.767</td> <td> 0.000</td> <td>    6.161</td> <td>    6.266</td>\n",
       "</tr>\n",
       "<tr>\n",
       "  <th>Category_Office Supplies</th> <td>  -79.7931</td> <td>    2.080</td> <td>  -38.369</td> <td> 0.000</td> <td>  -83.869</td> <td>  -75.717</td>\n",
       "</tr>\n",
       "<tr>\n",
       "  <th>Category_Technology</th>      <td>   -2.5485</td> <td>    2.453</td> <td>   -1.039</td> <td> 0.299</td> <td>   -7.356</td> <td>    2.259</td>\n",
       "</tr>\n",
       "<tr>\n",
       "  <th>Order Priority_High</th>      <td>  112.2427</td> <td>    3.131</td> <td>   35.844</td> <td> 0.000</td> <td>  106.105</td> <td>  118.380</td>\n",
       "</tr>\n",
       "<tr>\n",
       "  <th>Order Priority_Low</th>       <td>  133.5904</td> <td>    4.446</td> <td>   30.047</td> <td> 0.000</td> <td>  124.876</td> <td>  142.305</td>\n",
       "</tr>\n",
       "<tr>\n",
       "  <th>Order Priority_Medium</th>    <td>  185.4304</td> <td>    3.040</td> <td>   60.987</td> <td> 0.000</td> <td>  179.471</td> <td>  191.390</td>\n",
       "</tr>\n",
       "</table>\n",
       "<table class=\"simpletable\">\n",
       "<tr>\n",
       "  <th>Omnibus:</th>       <td>22620.825</td> <th>  Durbin-Watson:     </th>  <td>   1.999</td> \n",
       "</tr>\n",
       "<tr>\n",
       "  <th>Prob(Omnibus):</th>  <td> 0.000</td>   <th>  Jarque-Bera (JB):  </th> <td>591557.164</td>\n",
       "</tr>\n",
       "<tr>\n",
       "  <th>Skew:</th>           <td> 2.206</td>   <th>  Prob(JB):          </th>  <td>    0.00</td> \n",
       "</tr>\n",
       "<tr>\n",
       "  <th>Kurtosis:</th>       <td>21.268</td>   <th>  Cond. No.          </th>  <td>    836.</td> \n",
       "</tr>\n",
       "</table><br/><br/>Warnings:<br/>[1] Standard Errors assume that the covariance matrix of the errors is correctly specified."
      ],
      "text/plain": [
       "<class 'statsmodels.iolib.summary.Summary'>\n",
       "\"\"\"\n",
       "                            OLS Regression Results                            \n",
       "==============================================================================\n",
       "Dep. Variable:                  Sales   R-squared:                       0.759\n",
       "Model:                            OLS   Adj. R-squared:                  0.759\n",
       "Method:                 Least Squares   F-statistic:                 1.579e+04\n",
       "Date:                Mon, 06 Jul 2020   Prob (F-statistic):               0.00\n",
       "Time:                        22:47:13   Log-Likelihood:            -2.5885e+05\n",
       "No. Observations:               40200   AIC:                         5.177e+05\n",
       "Df Residuals:                   40191   BIC:                         5.178e+05\n",
       "Df Model:                           8                                         \n",
       "Covariance Type:            nonrobust                                         \n",
       "============================================================================================\n",
       "                               coef    std err          t      P>|t|      [0.025      0.975]\n",
       "--------------------------------------------------------------------------------------------\n",
       "const                      -83.7371      3.569    -23.462      0.000     -90.732     -76.742\n",
       "Quantity                    13.1347      0.354     37.079      0.000      12.440      13.829\n",
       "Profit                       0.5799      0.009     66.927      0.000       0.563       0.597\n",
       "Shipping Cost                6.2131      0.027    231.767      0.000       6.161       6.266\n",
       "Category_Office Supplies   -79.7931      2.080    -38.369      0.000     -83.869     -75.717\n",
       "Category_Technology         -2.5485      2.453     -1.039      0.299      -7.356       2.259\n",
       "Order Priority_High        112.2427      3.131     35.844      0.000     106.105     118.380\n",
       "Order Priority_Low         133.5904      4.446     30.047      0.000     124.876     142.305\n",
       "Order Priority_Medium      185.4304      3.040     60.987      0.000     179.471     191.390\n",
       "==============================================================================\n",
       "Omnibus:                    22620.825   Durbin-Watson:                   1.999\n",
       "Prob(Omnibus):                  0.000   Jarque-Bera (JB):           591557.164\n",
       "Skew:                           2.206   Prob(JB):                         0.00\n",
       "Kurtosis:                      21.268   Cond. No.                         836.\n",
       "==============================================================================\n",
       "\n",
       "Warnings:\n",
       "[1] Standard Errors assume that the covariance matrix of the errors is correctly specified.\n",
       "\"\"\""
      ]
     },
     "execution_count": 46,
     "metadata": {},
     "output_type": "execute_result"
    }
   ],
   "source": [
    "#set variables\n",
    "x = data[['Quantity','Profit','Shipping Cost']]\n",
    "y = data['Sales']\n",
    "\n",
    "#add categorical Variables with dummies\n",
    "dummy_variables = data[['Category','Order Priority']]\n",
    "dummy = pd.get_dummies(dummy_variables, drop_first=True)\n",
    "x = pd.concat([x,dummy],axis=1)\n",
    "\n",
    "#test train split\n",
    "x_train, x_test, y_train, y_test = train_test_split(\n",
    "                                          x, y, test_size = 0.2, random_state = 42\n",
    "                                        )\n",
    "\n",
    "#add constant to train and test x\n",
    "x_train = sm.add_constant(x_train)\n",
    "x_test = sm.add_constant(x_test)\n",
    "\n",
    "# run model\n",
    "lin_model = sm.OLS(y_train, x_train).fit()\n",
    "\n",
    "lin_model.summary()"
   ]
  },
  {
   "cell_type": "code",
   "execution_count": 47,
   "metadata": {
    "colab": {
     "base_uri": "https://localhost:8080/",
     "height": 87
    },
    "colab_type": "code",
    "id": "F7jvOGnjvIKh",
    "outputId": "5f769032-40ef-4ae9-877b-cd4e80685575"
   },
   "outputs": [
    {
     "name": "stdout",
     "output_type": "stream",
     "text": [
      "Train score: 0.759\n",
      "Test score: 0.748\n",
      "Train root mse: 151.447\n",
      "Test root mse: 152.016\n"
     ]
    }
   ],
   "source": [
    "#R2 scores\n",
    "print(f'Train score: {r2_score(y_train,lin_model.predict(x_train)):.3f}')\n",
    "print(f'Test score: {r2_score(y_test,lin_model.predict(x_test)):.3f}')\n",
    "#Root MSE Values\n",
    "print(f'Train root mse: {mean_squared_error(y_train, lin_model.predict(x_train))**0.5:.3f}')\n",
    "print(f'Test root mse: {mean_squared_error(y_test, lin_model.predict(x_test))**0.5:.3f}')"
   ]
  },
  {
   "cell_type": "code",
   "execution_count": 48,
   "metadata": {
    "colab": {
     "base_uri": "https://localhost:8080/",
     "height": 52
    },
    "colab_type": "code",
    "id": "Wmyb90gyaAVU",
    "outputId": "11cbed04-280c-4e2e-b9e2-2d59ef1224e4"
   },
   "outputs": [
    {
     "name": "stdout",
     "output_type": "stream",
     "text": [
      "204.5431543701856\n",
      "202.91418981214753\n"
     ]
    }
   ],
   "source": [
    "print(lin_model.predict(x_test).mean())\n",
    "print(data['Sales'].mean())"
   ]
  },
  {
   "cell_type": "markdown",
   "metadata": {
    "colab_type": "text",
    "id": "5H60Z9_2KM_u"
   },
   "source": [
    "We see a slight decrease in R2 and increase in MSE. However the vastly reduced amount of variables justifies this drop in accuracy. The metrics are still better than the simple OLS model from the beginning. \n",
    "\n",
    "The means of the targets and predicted targets are very close to each other."
   ]
  },
  {
   "cell_type": "code",
   "execution_count": 49,
   "metadata": {
    "colab": {},
    "colab_type": "code",
    "id": "G4g4-i37lfp2"
   },
   "outputs": [],
   "source": [
    "def show_values_on_bars(axs, h_v=\"v\", space=0.4):\n",
    "    def _show_on_single_plot(ax):\n",
    "        if h_v == \"v\":\n",
    "            for p in ax.patches:\n",
    "                _x = p.get_x() + p.get_width() / 2\n",
    "                _y = p.get_y() + p.get_height()\n",
    "                value = float(p.get_height().round(1))\n",
    "                ax.text(_x, _y, value, ha=\"center\")\n",
    "        elif h_v == \"h\":\n",
    "            for p in ax.patches:\n",
    "                _x = p.get_x() + p.get_width() + float(space)\n",
    "                _y = p.get_y() + p.get_height()\n",
    "                value = float(p.get_width().round(1))\n",
    "                ax.text(_x, _y, value, ha=\"left\", va=\"bottom\")\n",
    "\n",
    "    if isinstance(axs, np.ndarray):\n",
    "        for idx, ax in np.ndenumerate(axs):\n",
    "            _show_on_single_plot(ax)\n",
    "    else:\n",
    "        _show_on_single_plot(axs)"
   ]
  },
  {
   "cell_type": "markdown",
   "metadata": {
    "colab_type": "text",
    "id": "SM5dl_itKjuS"
   },
   "source": [
    "We plot the Values of the coefficients for each Variable"
   ]
  },
  {
   "cell_type": "code",
   "execution_count": 50,
   "metadata": {
    "colab": {
     "base_uri": "https://localhost:8080/",
     "height": 336
    },
    "colab_type": "code",
    "id": "aJWdjbKPlleO",
    "outputId": "7c01cc86-5743-48f8-d28d-19e4ae8c1e19"
   },
   "outputs": [
    {
     "data": {
      "image/png": "[encoded data removed]",
      "text/plain": [
       "<Figure size 720x360 with 1 Axes>"
      ]
     },
     "metadata": {
      "needs_background": "light"
     },
     "output_type": "display_data"
    }
   ],
   "source": [
    "fig, ax = plt.subplots(1,1, figsize=(10,5))\n",
    "sns.barplot(lin_model.params.abs(), lin_model.params.index,ax=ax)\n",
    "show_values_on_bars(ax, \"h\", 0)\n",
    "\n",
    "plt.title('Unscaled Coefficients of Variables')\n",
    "plt.show()"
   ]
  },
  {
   "cell_type": "markdown",
   "metadata": {
    "colab_type": "text",
    "id": "IRNa1YQpKpJr"
   },
   "source": [
    "It appears that Order Priority has large impact on Sales. However We have to scale the variables first in order to get insight about the impact of each Variable"
   ]
  },
  {
   "cell_type": "markdown",
   "metadata": {
    "colab_type": "text",
    "id": "Nx0FTsUPEJFI"
   },
   "source": [
    "# OLS with selected categorical Variables and Scaling (R2 0.759/MSE 0.491)"
   ]
  },
  {
   "cell_type": "markdown",
   "metadata": {
    "colab_type": "text",
    "id": "wsKQt8LsMG9e"
   },
   "source": [
    "In order to scale variables to make them comparable we subtract the mean from each value and divide by the standard deviation. This is done by the StandardScaler() function and has to be performed separate for each Split set."
   ]
  },
  {
   "cell_type": "code",
   "execution_count": 53,
   "metadata": {
    "colab": {
     "base_uri": "https://localhost:8080/",
     "height": 1000
    },
    "colab_type": "code",
    "id": "uFcj9pS7EP2X",
    "outputId": "2a7f8f13-aec4-4323-850d-9fdccdc8f365"
   },
   "outputs": [
    {
     "name": "stderr",
     "output_type": "stream",
     "text": [
      "/home/steve/anaconda3/lib/python3.7/site-packages/ipykernel_launcher.py:19: SettingWithCopyWarning: \n",
      "A value is trying to be set on a copy of a slice from a DataFrame.\n",
      "Try using .loc[row_indexer,col_indexer] = value instead\n",
      "\n",
      "See the caveats in the documentation: https://pandas.pydata.org/pandas-docs/stable/user_guide/indexing.html#returning-a-view-versus-a-copy\n",
      "/home/steve/anaconda3/lib/python3.7/site-packages/ipykernel_launcher.py:22: SettingWithCopyWarning: \n",
      "A value is trying to be set on a copy of a slice from a DataFrame.\n",
      "Try using .loc[row_indexer,col_indexer] = value instead\n",
      "\n",
      "See the caveats in the documentation: https://pandas.pydata.org/pandas-docs/stable/user_guide/indexing.html#returning-a-view-versus-a-copy\n",
      "/home/steve/anaconda3/lib/python3.7/site-packages/ipykernel_launcher.py:19: SettingWithCopyWarning: \n",
      "A value is trying to be set on a copy of a slice from a DataFrame.\n",
      "Try using .loc[row_indexer,col_indexer] = value instead\n",
      "\n",
      "See the caveats in the documentation: https://pandas.pydata.org/pandas-docs/stable/user_guide/indexing.html#returning-a-view-versus-a-copy\n",
      "/home/steve/anaconda3/lib/python3.7/site-packages/ipykernel_launcher.py:22: SettingWithCopyWarning: \n",
      "A value is trying to be set on a copy of a slice from a DataFrame.\n",
      "Try using .loc[row_indexer,col_indexer] = value instead\n",
      "\n",
      "See the caveats in the documentation: https://pandas.pydata.org/pandas-docs/stable/user_guide/indexing.html#returning-a-view-versus-a-copy\n",
      "/home/steve/anaconda3/lib/python3.7/site-packages/ipykernel_launcher.py:19: SettingWithCopyWarning: \n",
      "A value is trying to be set on a copy of a slice from a DataFrame.\n",
      "Try using .loc[row_indexer,col_indexer] = value instead\n",
      "\n",
      "See the caveats in the documentation: https://pandas.pydata.org/pandas-docs/stable/user_guide/indexing.html#returning-a-view-versus-a-copy\n",
      "/home/steve/anaconda3/lib/python3.7/site-packages/ipykernel_launcher.py:22: SettingWithCopyWarning: \n",
      "A value is trying to be set on a copy of a slice from a DataFrame.\n",
      "Try using .loc[row_indexer,col_indexer] = value instead\n",
      "\n",
      "See the caveats in the documentation: https://pandas.pydata.org/pandas-docs/stable/user_guide/indexing.html#returning-a-view-versus-a-copy\n",
      "/home/steve/anaconda3/lib/python3.7/site-packages/ipykernel_launcher.py:19: SettingWithCopyWarning: \n",
      "A value is trying to be set on a copy of a slice from a DataFrame.\n",
      "Try using .loc[row_indexer,col_indexer] = value instead\n",
      "\n",
      "See the caveats in the documentation: https://pandas.pydata.org/pandas-docs/stable/user_guide/indexing.html#returning-a-view-versus-a-copy\n",
      "/home/steve/anaconda3/lib/python3.7/site-packages/ipykernel_launcher.py:22: SettingWithCopyWarning: \n",
      "A value is trying to be set on a copy of a slice from a DataFrame.\n",
      "Try using .loc[row_indexer,col_indexer] = value instead\n",
      "\n",
      "See the caveats in the documentation: https://pandas.pydata.org/pandas-docs/stable/user_guide/indexing.html#returning-a-view-versus-a-copy\n",
      "/home/steve/anaconda3/lib/python3.7/site-packages/ipykernel_launcher.py:19: SettingWithCopyWarning: \n",
      "A value is trying to be set on a copy of a slice from a DataFrame.\n",
      "Try using .loc[row_indexer,col_indexer] = value instead\n",
      "\n",
      "See the caveats in the documentation: https://pandas.pydata.org/pandas-docs/stable/user_guide/indexing.html#returning-a-view-versus-a-copy\n",
      "/home/steve/anaconda3/lib/python3.7/site-packages/ipykernel_launcher.py:22: SettingWithCopyWarning: \n",
      "A value is trying to be set on a copy of a slice from a DataFrame.\n",
      "Try using .loc[row_indexer,col_indexer] = value instead\n",
      "\n",
      "See the caveats in the documentation: https://pandas.pydata.org/pandas-docs/stable/user_guide/indexing.html#returning-a-view-versus-a-copy\n",
      "/home/steve/anaconda3/lib/python3.7/site-packages/ipykernel_launcher.py:19: SettingWithCopyWarning: \n",
      "A value is trying to be set on a copy of a slice from a DataFrame.\n",
      "Try using .loc[row_indexer,col_indexer] = value instead\n",
      "\n",
      "See the caveats in the documentation: https://pandas.pydata.org/pandas-docs/stable/user_guide/indexing.html#returning-a-view-versus-a-copy\n",
      "/home/steve/anaconda3/lib/python3.7/site-packages/ipykernel_launcher.py:22: SettingWithCopyWarning: \n",
      "A value is trying to be set on a copy of a slice from a DataFrame.\n",
      "Try using .loc[row_indexer,col_indexer] = value instead\n",
      "\n",
      "See the caveats in the documentation: https://pandas.pydata.org/pandas-docs/stable/user_guide/indexing.html#returning-a-view-versus-a-copy\n",
      "/home/steve/anaconda3/lib/python3.7/site-packages/ipykernel_launcher.py:19: SettingWithCopyWarning: \n",
      "A value is trying to be set on a copy of a slice from a DataFrame.\n",
      "Try using .loc[row_indexer,col_indexer] = value instead\n",
      "\n",
      "See the caveats in the documentation: https://pandas.pydata.org/pandas-docs/stable/user_guide/indexing.html#returning-a-view-versus-a-copy\n",
      "/home/steve/anaconda3/lib/python3.7/site-packages/ipykernel_launcher.py:22: SettingWithCopyWarning: \n",
      "A value is trying to be set on a copy of a slice from a DataFrame.\n",
      "Try using .loc[row_indexer,col_indexer] = value instead\n",
      "\n",
      "See the caveats in the documentation: https://pandas.pydata.org/pandas-docs/stable/user_guide/indexing.html#returning-a-view-versus-a-copy\n",
      "/home/steve/anaconda3/lib/python3.7/site-packages/ipykernel_launcher.py:19: SettingWithCopyWarning: \n",
      "A value is trying to be set on a copy of a slice from a DataFrame.\n",
      "Try using .loc[row_indexer,col_indexer] = value instead\n",
      "\n",
      "See the caveats in the documentation: https://pandas.pydata.org/pandas-docs/stable/user_guide/indexing.html#returning-a-view-versus-a-copy\n",
      "/home/steve/anaconda3/lib/python3.7/site-packages/ipykernel_launcher.py:22: SettingWithCopyWarning: \n",
      "A value is trying to be set on a copy of a slice from a DataFrame.\n",
      "Try using .loc[row_indexer,col_indexer] = value instead\n",
      "\n",
      "See the caveats in the documentation: https://pandas.pydata.org/pandas-docs/stable/user_guide/indexing.html#returning-a-view-versus-a-copy\n"
     ]
    },
    {
     "data": {
      "text/html": [
       "<table class=\"simpletable\">\n",
       "<caption>OLS Regression Results</caption>\n",
       "<tr>\n",
       "  <th>Dep. Variable:</th>            <td>y</td>        <th>  R-squared:         </th> <td>   0.759</td> \n",
       "</tr>\n",
       "<tr>\n",
       "  <th>Model:</th>                   <td>OLS</td>       <th>  Adj. R-squared:    </th> <td>   0.759</td> \n",
       "</tr>\n",
       "<tr>\n",
       "  <th>Method:</th>             <td>Least Squares</td>  <th>  F-statistic:       </th> <td>1.579e+04</td>\n",
       "</tr>\n",
       "<tr>\n",
       "  <th>Date:</th>             <td>Mon, 06 Jul 2020</td> <th>  Prob (F-statistic):</th>  <td>  0.00</td>  \n",
       "</tr>\n",
       "<tr>\n",
       "  <th>Time:</th>                 <td>22:48:32</td>     <th>  Log-Likelihood:    </th> <td> -28467.</td> \n",
       "</tr>\n",
       "<tr>\n",
       "  <th>No. Observations:</th>      <td> 40200</td>      <th>  AIC:               </th> <td>5.695e+04</td>\n",
       "</tr>\n",
       "<tr>\n",
       "  <th>Df Residuals:</th>          <td> 40191</td>      <th>  BIC:               </th> <td>5.703e+04</td>\n",
       "</tr>\n",
       "<tr>\n",
       "  <th>Df Model:</th>              <td>     8</td>      <th>                     </th>     <td> </td>    \n",
       "</tr>\n",
       "<tr>\n",
       "  <th>Covariance Type:</th>      <td>nonrobust</td>    <th>                     </th>     <td> </td>    \n",
       "</tr>\n",
       "</table>\n",
       "<table class=\"simpletable\">\n",
       "<tr>\n",
       "              <td></td>                <th>coef</th>     <th>std err</th>      <th>t</th>      <th>P>|t|</th>  <th>[0.025</th>    <th>0.975]</th>  \n",
       "</tr>\n",
       "<tr>\n",
       "  <th>const</th>                    <td> 1.713e-17</td> <td>    0.002</td> <td> 6.99e-15</td> <td> 1.000</td> <td>   -0.005</td> <td>    0.005</td>\n",
       "</tr>\n",
       "<tr>\n",
       "  <th>Quantity</th>                 <td>    0.0949</td> <td>    0.003</td> <td>   37.079</td> <td> 0.000</td> <td>    0.090</td> <td>    0.100</td>\n",
       "</tr>\n",
       "<tr>\n",
       "  <th>Profit</th>                   <td>    0.1822</td> <td>    0.003</td> <td>   66.927</td> <td> 0.000</td> <td>    0.177</td> <td>    0.188</td>\n",
       "</tr>\n",
       "<tr>\n",
       "  <th>Shipping Cost</th>            <td>    0.7109</td> <td>    0.003</td> <td>  231.767</td> <td> 0.000</td> <td>    0.705</td> <td>    0.717</td>\n",
       "</tr>\n",
       "<tr>\n",
       "  <th>Category_Office Supplies</th> <td>   -0.1257</td> <td>    0.003</td> <td>  -38.369</td> <td> 0.000</td> <td>   -0.132</td> <td>   -0.119</td>\n",
       "</tr>\n",
       "<tr>\n",
       "  <th>Category_Technology</th>      <td>   -0.0033</td> <td>    0.003</td> <td>   -1.039</td> <td> 0.299</td> <td>   -0.009</td> <td>    0.003</td>\n",
       "</tr>\n",
       "<tr>\n",
       "  <th>Order Priority_High</th>      <td>    0.1673</td> <td>    0.005</td> <td>   35.844</td> <td> 0.000</td> <td>    0.158</td> <td>    0.176</td>\n",
       "</tr>\n",
       "<tr>\n",
       "  <th>Order Priority_Low</th>       <td>    0.0931</td> <td>    0.003</td> <td>   30.047</td> <td> 0.000</td> <td>    0.087</td> <td>    0.099</td>\n",
       "</tr>\n",
       "<tr>\n",
       "  <th>Order Priority_Medium</th>    <td>    0.2973</td> <td>    0.005</td> <td>   60.987</td> <td> 0.000</td> <td>    0.288</td> <td>    0.307</td>\n",
       "</tr>\n",
       "</table>\n",
       "<table class=\"simpletable\">\n",
       "<tr>\n",
       "  <th>Omnibus:</th>       <td>22620.825</td> <th>  Durbin-Watson:     </th>  <td>   1.999</td> \n",
       "</tr>\n",
       "<tr>\n",
       "  <th>Prob(Omnibus):</th>  <td> 0.000</td>   <th>  Jarque-Bera (JB):  </th> <td>591557.164</td>\n",
       "</tr>\n",
       "<tr>\n",
       "  <th>Skew:</th>           <td> 2.206</td>   <th>  Prob(JB):          </th>  <td>    0.00</td> \n",
       "</tr>\n",
       "<tr>\n",
       "  <th>Kurtosis:</th>       <td>21.268</td>   <th>  Cond. No.          </th>  <td>    3.99</td> \n",
       "</tr>\n",
       "</table><br/><br/>Warnings:<br/>[1] Standard Errors assume that the covariance matrix of the errors is correctly specified."
      ],
      "text/plain": [
       "<class 'statsmodels.iolib.summary.Summary'>\n",
       "\"\"\"\n",
       "                            OLS Regression Results                            \n",
       "==============================================================================\n",
       "Dep. Variable:                      y   R-squared:                       0.759\n",
       "Model:                            OLS   Adj. R-squared:                  0.759\n",
       "Method:                 Least Squares   F-statistic:                 1.579e+04\n",
       "Date:                Mon, 06 Jul 2020   Prob (F-statistic):               0.00\n",
       "Time:                        22:48:32   Log-Likelihood:                -28467.\n",
       "No. Observations:               40200   AIC:                         5.695e+04\n",
       "Df Residuals:                   40191   BIC:                         5.703e+04\n",
       "Df Model:                           8                                         \n",
       "Covariance Type:            nonrobust                                         \n",
       "============================================================================================\n",
       "                               coef    std err          t      P>|t|      [0.025      0.975]\n",
       "--------------------------------------------------------------------------------------------\n",
       "const                     1.713e-17      0.002   6.99e-15      1.000      -0.005       0.005\n",
       "Quantity                     0.0949      0.003     37.079      0.000       0.090       0.100\n",
       "Profit                       0.1822      0.003     66.927      0.000       0.177       0.188\n",
       "Shipping Cost                0.7109      0.003    231.767      0.000       0.705       0.717\n",
       "Category_Office Supplies    -0.1257      0.003    -38.369      0.000      -0.132      -0.119\n",
       "Category_Technology         -0.0033      0.003     -1.039      0.299      -0.009       0.003\n",
       "Order Priority_High          0.1673      0.005     35.844      0.000       0.158       0.176\n",
       "Order Priority_Low           0.0931      0.003     30.047      0.000       0.087       0.099\n",
       "Order Priority_Medium        0.2973      0.005     60.987      0.000       0.288       0.307\n",
       "==============================================================================\n",
       "Omnibus:                    22620.825   Durbin-Watson:                   1.999\n",
       "Prob(Omnibus):                  0.000   Jarque-Bera (JB):           591557.164\n",
       "Skew:                           2.206   Prob(JB):                         0.00\n",
       "Kurtosis:                      21.268   Cond. No.                         3.99\n",
       "==============================================================================\n",
       "\n",
       "Warnings:\n",
       "[1] Standard Errors assume that the covariance matrix of the errors is correctly specified.\n",
       "\"\"\""
      ]
     },
     "execution_count": 53,
     "metadata": {},
     "output_type": "execute_result"
    }
   ],
   "source": [
    "#set variables\n",
    "x = data[['Quantity','Profit','Shipping Cost']]\n",
    "y = data['Sales']\n",
    "\n",
    "#add categorical Variables with dummies\n",
    "dummy_variables = data[['Category','Order Priority']]\n",
    "dummy = pd.get_dummies(dummy_variables, drop_first=True)\n",
    "x = pd.concat([x,dummy],axis=1)\n",
    "\n",
    "#test train split\n",
    "x_train, x_test, y_train, y_test = train_test_split(\n",
    "                                          x, y, test_size = 0.2, random_state = 42\n",
    "                                        )\n",
    "\n",
    "\n",
    "# create a standard scaler for each variable and variable partition\n",
    "for col in x_train.columns:\n",
    "  ss_x_train = StandardScaler()\n",
    "  x_train[col] = ss_x_train.fit_transform(np.array(x_train[col]).reshape(-1,1))\n",
    "\n",
    "  ss_x_test = StandardScaler()\n",
    "  x_test[col] = ss_x_test.fit_transform(np.array(x_test[col]).reshape(-1,1))\n",
    "\n",
    "# fit the fit_transform train set\n",
    "ss_y_train = StandardScaler()\n",
    "y_train = ss_y_train.fit_transform(np.array(y_train).reshape(-1,1))\n",
    "\n",
    "#fit the fit_transform test set\n",
    "ss_y_test = StandardScaler()\n",
    "y_test = ss_y_test.fit_transform(np.array(y_test).reshape(-1,1))\n",
    "\n",
    "#add constant to train and test x\n",
    "x_train = sm.add_constant(x_train)\n",
    "x_test = sm.add_constant(x_test)\n",
    "\n",
    "# run model\n",
    "lin_model = sm.OLS(y_train, x_train).fit()\n",
    "\n",
    "lin_model.summary()"
   ]
  },
  {
   "cell_type": "code",
   "execution_count": 54,
   "metadata": {
    "colab": {
     "base_uri": "https://localhost:8080/",
     "height": 87
    },
    "colab_type": "code",
    "id": "lTh4JCPlEP6O",
    "outputId": "68774a7e-b603-46fb-a023-e4685088782c"
   },
   "outputs": [
    {
     "name": "stdout",
     "output_type": "stream",
     "text": [
      "Train score: 0.759\n",
      "Test score: 0.748\n",
      "Train root mse: 0.491\n",
      "Test root mse: 0.502\n"
     ]
    }
   ],
   "source": [
    "#R2 scores\n",
    "print(f'Train score: {r2_score(y_train,lin_model.predict(x_train)):.3f}')\n",
    "print(f'Test score: {r2_score(y_test,lin_model.predict(x_test)):.3f}')\n",
    "#Root MSE Values\n",
    "print(f'Train root mse: {mean_squared_error(y_train, lin_model.predict(x_train))**0.5:.3f}')\n",
    "print(f'Test root mse: {mean_squared_error(y_test, lin_model.predict(x_test))**0.5:.3f}')"
   ]
  },
  {
   "cell_type": "markdown",
   "metadata": {
    "colab_type": "text",
    "id": "h6aCSTFxMb0_"
   },
   "source": [
    "We see that the R2 score hasnt changed when scaling, the Root MSE however has due to the scaling."
   ]
  },
  {
   "cell_type": "code",
   "execution_count": 55,
   "metadata": {
    "colab": {
     "base_uri": "https://localhost:8080/",
     "height": 52
    },
    "colab_type": "code",
    "id": "7ekSZ3RkaNpT",
    "outputId": "ce5486ff-69cb-4705-dba1-fc2172d1dbf2"
   },
   "outputs": [
    {
     "name": "stdout",
     "output_type": "stream",
     "text": [
      "202.4462891482587\n",
      "202.91418981214753\n"
     ]
    }
   ],
   "source": [
    "y_prediction_test = lin_model.predict(x_test)\n",
    "y_pred = ss_y_test.inverse_transform(y_prediction_test)\n",
    "print(y_pred.mean())\n",
    "print(data['Sales'].mean())"
   ]
  },
  {
   "cell_type": "markdown",
   "metadata": {
    "colab_type": "text",
    "id": "BDumXqI64-tb"
   },
   "source": [
    "The means of the targets and predicted targets are very close to each other."
   ]
  },
  {
   "cell_type": "code",
   "execution_count": 56,
   "metadata": {
    "colab": {
     "base_uri": "https://localhost:8080/",
     "height": 336
    },
    "colab_type": "code",
    "id": "JIZx3lJMg-D3",
    "outputId": "b142ef9a-e428-4897-b5a2-fca2573d9856"
   },
   "outputs": [
    {
     "data": {
      "image/png": "[encoded data removed]",
      "text/plain": [
       "<Figure size 720x360 with 1 Axes>"
      ]
     },
     "metadata": {
      "needs_background": "light"
     },
     "output_type": "display_data"
    }
   ],
   "source": [
    "fig, ax = plt.subplots(1,1, figsize=(10,5))\n",
    "sns.barplot(lin_model.params.abs(), lin_model.params.index,ax=ax)\n",
    "show_values_on_bars(ax, \"h\", 0)\n",
    "\n",
    "plt.title('Absolute impact of variables on Sales')\n",
    "plt.show()"
   ]
  },
  {
   "cell_type": "markdown",
   "metadata": {
    "colab_type": "text",
    "id": "KnscrI0ANZr3"
   },
   "source": [
    "Due to scaling we can now see the impact of each variable on sales. Shipping cost has by far the highest impact, which makes sense because the correlation between the two was above 0.7."
   ]
  },
  {
   "cell_type": "code",
   "execution_count": 57,
   "metadata": {
    "colab": {
     "base_uri": "https://localhost:8080/",
     "height": 55
    },
    "colab_type": "code",
    "id": "aBDckno0sSRS",
    "outputId": "f62ec5b4-5753-4ed1-86b1-51c0e4b90262"
   },
   "outputs": [
    {
     "name": "stdout",
     "output_type": "stream",
     "text": [
      "Sales = 0.095*(Quantity)+0.182*(Profit)+0.711*(Shipping Cost)-0.126*(Category_Office Supplies)-0.003*(Category_Technology)+0.167*(Order Priority_High)+0.093*(Order Priority_Low)+0.297*(Order Priority_Medium)\n"
     ]
    }
   ],
   "source": [
    "formula = 'Sales = '\n",
    "\n",
    "for i in range(len(lin_model.params)-1):\n",
    " formula = formula + str(lin_model.params[i+1].round(3)) + '*(' + str(lin_model.params.index[i+1]) + ')'\n",
    " \n",
    " if i+2 <= len(lin_model.params)-1:\n",
    "  if lin_model.params[i+2] >= 0:\n",
    "    formula = formula + '+'\n",
    "\n",
    "print(formula)"
   ]
  },
  {
   "cell_type": "markdown",
   "metadata": {
    "colab_type": "text",
    "id": "U1_GU_UNxw-O"
   },
   "source": [
    "This is the final formula of our model. However all variables are scaled and the resulting predictions need to be rescaled as well.\n",
    "\n",
    "$Sales = 0.095*(Quantity)+0.182*(Profit)+0.711*(Shipping Cost)-0.126*(Category_Office Supplies)$\n",
    "$-0.003*(Category_Technology)+0.167*(Order Priority_High)$\n",
    "$+0.093*(Order Priority_Low)+0.297*(Order Priority_Medium)$"
   ]
  },
  {
   "cell_type": "markdown",
   "metadata": {
    "colab_type": "text",
    "id": "AfosHK6yiu1T"
   },
   "source": [
    "# Not Used"
   ]
  },
  {
   "cell_type": "code",
   "execution_count": 58,
   "metadata": {
    "colab": {
     "base_uri": "https://localhost:8080/"
    },
    "colab_type": "code",
    "id": "LR1wg1TW3ygj",
    "outputId": "62ee9ae5-96da-4b92-f9fb-a034c2144c05"
   },
   "outputs": [
    {
     "name": "stderr",
     "output_type": "stream",
     "text": [
      "/home/steve/anaconda3/lib/python3.7/site-packages/pandas/core/series.py:679: RuntimeWarning: divide by zero encountered in log\n",
      "  result = getattr(ufunc, method)(*inputs, **kwargs)\n",
      "/home/steve/anaconda3/lib/python3.7/site-packages/pandas/core/series.py:679: RuntimeWarning: invalid value encountered in log\n",
      "  result = getattr(ufunc, method)(*inputs, **kwargs)\n"
     ]
    },
    {
     "data": {
      "image/png": "[encoded data removed]",
      "text/plain": [
       "<Figure size 720x360 with 4 Axes>"
      ]
     },
     "metadata": {
      "needs_background": "light"
     },
     "output_type": "display_data"
    }
   ],
   "source": [
    "plot = 'Profit'\n",
    "\n",
    "fig, axs = plt.subplots(2,2, figsize=(10,5))\n",
    "\n",
    "axs.flatten()[0].plot(data[plot])\n",
    "\n",
    "axs.flatten()[1].plot(log_base( data[plot] ,10))\n",
    "\n",
    "axs.flatten()[2].plot(data[plot] + abs(min(data[plot]) +1) )\n",
    "\n",
    "axs.flatten()[3].plot(log_base( data[plot] + abs(min(data[plot])) +1 ,10))\n",
    "\n",
    "axs.flatten()[2].set_xlabel('Regular')\n",
    "axs.flatten()[3].set_xlabel('Logarithmic')\n",
    "\n",
    "fig.suptitle(f'{plot} with linear shift and respective log transformations')\n",
    "\n",
    "plt.show()"
   ]
  },
  {
   "cell_type": "code",
   "execution_count": 59,
   "metadata": {
    "colab": {
     "base_uri": "https://localhost:8080/"
    },
    "colab_type": "code",
    "id": "zztCSlNs6WK8",
    "outputId": "84408c22-15b4-4a9b-9a87-bcc32e0916f9"
   },
   "outputs": [
    {
     "data": {
      "image/png": "[encoded data removed]",
      "text/plain": [
       "<Figure size 720x360 with 4 Axes>"
      ]
     },
     "metadata": {
      "needs_background": "light"
     },
     "output_type": "display_data"
    }
   ],
   "source": [
    "plot = 'Quantity'\n",
    "\n",
    "fig, axs = plt.subplots(2,2, figsize=(10,5))\n",
    "\n",
    "axs.flatten()[0].plot(data[plot])\n",
    "\n",
    "axs.flatten()[1].plot(log_base( data[plot] ,10))\n",
    "\n",
    "axs.flatten()[2].plot(data[plot] + abs(min(data[plot]) +1) )\n",
    "\n",
    "axs.flatten()[3].plot(log_base( data[plot] + abs(min(data[plot])) +1 ,10))\n",
    "\n",
    "axs.flatten()[2].set_xlabel('Regular')\n",
    "axs.flatten()[3].set_xlabel('Logarithmic')\n",
    "\n",
    "fig.suptitle(f'{plot} with linear shift and respective log transformations')\n",
    "\n",
    "plt.show()"
   ]
  },
  {
   "cell_type": "code",
   "execution_count": 60,
   "metadata": {
    "colab": {
     "base_uri": "https://localhost:8080/"
    },
    "colab_type": "code",
    "id": "anYnpaCD6dVD",
    "outputId": "b13e6a2b-ae56-44d5-88bb-ec7c24e11dc0"
   },
   "outputs": [
    {
     "name": "stderr",
     "output_type": "stream",
     "text": [
      "/home/steve/anaconda3/lib/python3.7/site-packages/pandas/core/series.py:679: RuntimeWarning: divide by zero encountered in log\n",
      "  result = getattr(ufunc, method)(*inputs, **kwargs)\n"
     ]
    },
    {
     "data": {
      "image/png": "[encoded data removed]",
      "text/plain": [
       "<Figure size 720x360 with 4 Axes>"
      ]
     },
     "metadata": {
      "needs_background": "light"
     },
     "output_type": "display_data"
    }
   ],
   "source": [
    "plot = 'Shipping Cost'\n",
    "\n",
    "fig, axs = plt.subplots(2,2, figsize=(10,5))\n",
    "\n",
    "axs.flatten()[0].plot(data[plot])\n",
    "\n",
    "axs.flatten()[1].plot(log_base( data[plot] ,10))\n",
    "\n",
    "axs.flatten()[2].plot(data[plot] + abs(min(data[plot]) +1) )\n",
    "\n",
    "axs.flatten()[3].plot(log_base( data[plot] + abs(min(data[plot])) +1 ,10))\n",
    "\n",
    "axs.flatten()[2].set_xlabel('Regular')\n",
    "axs.flatten()[3].set_xlabel('Logarithmic')\n",
    "\n",
    "fig.suptitle(f'{plot} with linear shift and respective log transformations')\n",
    "\n",
    "plt.show()"
   ]
  },
  {
   "cell_type": "code",
   "execution_count": null,
   "metadata": {
    "colab": {},
    "colab_type": "code",
    "id": "kLTr8tFU6qqo"
   },
   "outputs": [],
   "source": []
  },
  {
   "cell_type": "code",
   "execution_count": null,
   "metadata": {},
   "outputs": [],
   "source": []
  }
 ],
 "metadata": {
  "colab": {
   "collapsed_sections": [
    "mFUolrxBjlsv",
    "ZGeLIkR4jhi4",
    "rUkP8jjbjROs",
    "h6cOQHzAjLtj",
    "zz72f46aiQOc",
    "SbfT60KDaylp",
    "ok-ATwATt6wC",
    "Nx0FTsUPEJFI",
    "AfosHK6yiu1T"
   ],
   "name": "Project2.ipynb",
   "provenance": []
  },
  "kernelspec": {
   "display_name": "Python 3",
   "language": "python",
   "name": "python3"
  },
  "language_info": {
   "codemirror_mode": {
    "name": "ipython",
    "version": 3
   },
   "file_extension": ".py",
   "mimetype": "text/x-python",
   "name": "python",
   "nbconvert_exporter": "python",
   "pygments_lexer": "ipython3",
   "version": "3.7.6"
  }
 },
 "nbformat": 4,
 "nbformat_minor": 1
}
